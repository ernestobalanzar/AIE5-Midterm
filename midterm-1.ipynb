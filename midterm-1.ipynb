{
 "cells": [
  {
   "cell_type": "markdown",
   "metadata": {},
   "source": [
    "### Midterm project for family caregivers"
   ]
  },
  {
   "cell_type": "code",
   "execution_count": 1,
   "metadata": {},
   "outputs": [],
   "source": [
    "!pip install -qU langchain langchain_openai langchain-community langgraph arxiv langchain-text-splitters"
   ]
  },
  {
   "cell_type": "code",
   "execution_count": 2,
   "metadata": {},
   "outputs": [],
   "source": [
    "!pip install -qU langchain-qdrant==0.2.0"
   ]
  },
  {
   "cell_type": "code",
   "execution_count": 3,
   "metadata": {},
   "outputs": [],
   "source": [
    "!pip install -qU faiss-cpu python-pptx==1.0.2 nltk==3.9.1 pymupdf beautifulsoup4 lxml "
   ]
  },
  {
   "cell_type": "code",
   "execution_count": 4,
   "metadata": {},
   "outputs": [],
   "source": [
    "!pip install -qU tiktoken pymupdf==1.25.2"
   ]
  },
  {
   "cell_type": "code",
   "execution_count": 5,
   "metadata": {},
   "outputs": [
    {
     "name": "stdout",
     "output_type": "stream",
     "text": [
      "Requirement already satisfied: xmltodict in ./venv/lib/python3.11/site-packages (0.14.2)\n"
     ]
    }
   ],
   "source": [
    "!pip install xmltodict\n",
    "!pip install -qU ragas==0.2.10"
   ]
  },
  {
   "cell_type": "code",
   "execution_count": 6,
   "metadata": {},
   "outputs": [
    {
     "name": "stdout",
     "output_type": "stream",
     "text": [
      "Requirement already satisfied: rapidfuzz in ./venv/lib/python3.11/site-packages (3.12.1)\n"
     ]
    }
   ],
   "source": [
    "!pip install rapidfuzz"
   ]
  },
  {
   "cell_type": "code",
   "execution_count": 7,
   "metadata": {},
   "outputs": [],
   "source": [
    "import os\n",
    "from getpass import getpass\n",
    "os.environ[\"OPENAI_API_KEY\"] = getpass(\"Please enter your OpenAI API key!\")"
   ]
  },
  {
   "cell_type": "code",
   "execution_count": 8,
   "metadata": {},
   "outputs": [],
   "source": [
    "os.environ[\"TAVILY_API_KEY\"] = getpass(\"TAVILY_API_KEY\")"
   ]
  },
  {
   "cell_type": "code",
   "execution_count": 9,
   "metadata": {},
   "outputs": [],
   "source": [
    "from langchain_openai import ChatOpenAI\n",
    "\n",
    "openai_chat_model = ChatOpenAI(model=\"gpt-4o-mini\")"
   ]
  },
  {
   "cell_type": "code",
   "execution_count": 10,
   "metadata": {},
   "outputs": [
    {
     "name": "stdout",
     "output_type": "stream",
     "text": [
      "mkdir: cannot create directory ‘data’: File exists\n"
     ]
    }
   ],
   "source": [
    "!mkdir data\n"
   ]
  },
  {
   "cell_type": "code",
   "execution_count": null,
   "metadata": {},
   "outputs": [],
   "source": [
    "!curl -A \"Mozilla/5.0 (Windows NT 10.0; Win64; x64) AppleWebKit/537.36 (KHTML, like Gecko) Chrome/120.0.0.0 Safari/537.36\" \\\n",
    "  https://www.ninds.nih.gov/health-information/disorders/amyotrophic-lateral-sclerosis-als -o data/overview.html\n",
    "##!curl https://www.als.org/understanding-als/symptoms-diagnosis -o data/symotoms.html\n",
    "##!curl https://www.mayoclinic.org/diseases-conditions/amyotrophic-lateral-sclerosis/symptoms-causes/syc-20354022 -o data/mayo-als.html"
   ]
  },
  {
   "cell_type": "code",
   "execution_count": 11,
   "metadata": {},
   "outputs": [
    {
     "name": "stdout",
     "output_type": "stream",
     "text": [
      "Files in data/: ['FamilyCaregivers.pdf', 'overview.html']\n"
     ]
    }
   ],
   "source": [
    "import os\n",
    "\n",
    "print(\"Files in data/:\", os.listdir(\"data/\"))"
   ]
  },
  {
   "cell_type": "code",
   "execution_count": 12,
   "metadata": {},
   "outputs": [],
   "source": [
    "from langchain_community.document_loaders import DirectoryLoader, BSHTMLLoader, PyPDFLoader\n",
    "\n",
    "path = \"data/\"\n",
    "\n",
    "# Load HTML files\n",
    "html_loader = DirectoryLoader(path, glob=\"*.html\", loader_cls=BSHTMLLoader)\n",
    "html_docs = html_loader.load()\n",
    "\n",
    "# Load PDF files\n",
    "pdf_loader = DirectoryLoader(path, glob=\"*.pdf\", loader_cls=PyPDFLoader)\n",
    "pdf_docs = pdf_loader.load()\n",
    "\n",
    "# Combine both document lists\n",
    "docs = html_docs + pdf_docs\n"
   ]
  },
  {
   "cell_type": "code",
   "execution_count": 13,
   "metadata": {},
   "outputs": [],
   "source": [
    "from langchain_text_splitters import RecursiveCharacterTextSplitter\n",
    "\n",
    "text_splitter = RecursiveCharacterTextSplitter(\n",
    "    chunk_size = 850,\n",
    "    chunk_overlap  = 50,\n",
    "    length_function = len\n",
    ")\n",
    "split_documents =  text_splitter.split_documents(docs)"
   ]
  },
  {
   "cell_type": "code",
   "execution_count": 14,
   "metadata": {},
   "outputs": [
    {
     "name": "stdout",
     "output_type": "stream",
     "text": [
      "73\n"
     ]
    }
   ],
   "source": [
    "print(len(split_documents))"
   ]
  },
  {
   "cell_type": "code",
   "execution_count": 15,
   "metadata": {},
   "outputs": [],
   "source": [
    "from langchain_openai.embeddings import OpenAIEmbeddings\n",
    "\n",
    "embedding_model = OpenAIEmbeddings(model=\"text-embedding-3-small\")"
   ]
  },
  {
   "cell_type": "code",
   "execution_count": 16,
   "metadata": {},
   "outputs": [],
   "source": [
    "from langchain_qdrant import QdrantVectorStore\n",
    "from qdrant_client import QdrantClient\n",
    "from qdrant_client.http.models import Distance, VectorParams\n",
    "\n",
    "client = QdrantClient(\":memory:\")\n",
    "\n",
    "client.create_collection(\n",
    "    collection_name=\"ai_caregiver\",\n",
    "    vectors_config=VectorParams(size=1536, distance=Distance.COSINE),\n",
    ")\n",
    "\n",
    "vector_store = QdrantVectorStore(\n",
    "    client=client,\n",
    "    collection_name=\"ai_caregiver\",\n",
    "    embedding=embedding_model,\n",
    ")\n",
    "\n"
   ]
  },
  {
   "cell_type": "code",
   "execution_count": 17,
   "metadata": {},
   "outputs": [],
   "source": [
    "_ = vector_store.add_documents(documents=split_documents)"
   ]
  },
  {
   "cell_type": "code",
   "execution_count": 18,
   "metadata": {},
   "outputs": [],
   "source": [
    "retriever = vector_store.as_retriever(search_kwargs={\"k\": 5})"
   ]
  },
  {
   "cell_type": "code",
   "execution_count": 19,
   "metadata": {},
   "outputs": [],
   "source": [
    "from langchain.retrievers.contextual_compression import ContextualCompressionRetriever\n",
    "\n",
    "def retrieve(state):\n",
    "    retrieved_docs = retriever.invoke(state[\"question\"])\n",
    "    return {\"context\": retrieved_docs}"
   ]
  },
  {
   "cell_type": "code",
   "execution_count": 20,
   "metadata": {},
   "outputs": [],
   "source": [
    "from langchain_core.prompts import PromptTemplate\n",
    "\n",
    "RAG_template = \"\"\"\n",
    "Use the following pieces of context to answer the question at the end.\n",
    "If you don't know the answer, just say \"I don't know, would you like to talk to a care coach?\", don't try to make up an answer.\n",
    "Use three sentences maximum and keep the answer as concise as possible.\n",
    "\n",
    "{context}\n",
    "\n",
    "Question: {question}\n",
    "\n",
    "Helpful Answer:\"\"\"\n",
    "\n",
    "rag_prompt = PromptTemplate.from_template(RAG_template) "
   ]
  },
  {
   "cell_type": "code",
   "execution_count": 21,
   "metadata": {},
   "outputs": [],
   "source": [
    "def generate(state):\n",
    "    docs_content = \"\\n\\n\".join([doc.page_content for doc in state[\"context\"]])\n",
    "    messages = rag_prompt.format_prompt(context=docs_content, question=state[\"question\"])\n",
    "    respose = openai_chat_model.invoke(messages)\n",
    "    return {\"response\": respose.content}"
   ]
  },
  {
   "cell_type": "code",
   "execution_count": 22,
   "metadata": {},
   "outputs": [],
   "source": [
    "from langgraph.graph import START, StateGraph\n",
    "from typing_extensions import List, TypedDict\n",
    "from langchain_core.documents import Document\n",
    "\n",
    "class State(TypedDict):\n",
    "  question: str\n",
    "  context: List[Document]\n",
    "  response: str"
   ]
  },
  {
   "cell_type": "code",
   "execution_count": 23,
   "metadata": {},
   "outputs": [],
   "source": [
    "graph_builder = StateGraph(State).add_sequence([retrieve, generate])\n",
    "graph_builder.add_edge(START, \"retrieve\");\n",
    "graph = graph_builder.compile();"
   ]
  },
  {
   "cell_type": "code",
   "execution_count": 24,
   "metadata": {},
   "outputs": [],
   "source": [
    "response = graph.invoke({\"question\": \"Who is more likely to get ALS?\"})"
   ]
  },
  {
   "cell_type": "code",
   "execution_count": 25,
   "metadata": {},
   "outputs": [
    {
     "name": "stdout",
     "output_type": "stream",
     "text": [
      "Individuals between the ages of 55 and 75, especially men, are more likely to develop ALS. Whites and non-Hispanics are also at a higher risk, and military veterans may have an increased likelihood due to environmental exposure. However, most cases are sporadic and don't have a clear family history.\n"
     ]
    }
   ],
   "source": [
    "response[\"response\"];\n",
    "print(response[\"response\"])"
   ]
  },
  {
   "cell_type": "markdown",
   "metadata": {},
   "source": [
    "## RAGAS"
   ]
  },
  {
   "cell_type": "code",
   "execution_count": 26,
   "metadata": {},
   "outputs": [
    {
     "data": {
      "application/vnd.jupyter.widget-view+json": {
       "model_id": "45576db0b57e43718ad4f31c1b47234a",
       "version_major": 2,
       "version_minor": 0
      },
      "text/plain": [
       "Applying HeadlinesExtractor:   0%|          | 0/5 [00:00<?, ?it/s]"
      ]
     },
     "metadata": {},
     "output_type": "display_data"
    },
    {
     "data": {
      "application/vnd.jupyter.widget-view+json": {
       "model_id": "92f91e21c4834d7a854e200ec4790789",
       "version_major": 2,
       "version_minor": 0
      },
      "text/plain": [
       "Applying HeadlineSplitter:   0%|          | 0/13 [00:00<?, ?it/s]"
      ]
     },
     "metadata": {},
     "output_type": "display_data"
    },
    {
     "name": "stderr",
     "output_type": "stream",
     "text": [
      "unable to apply transformation: 'headlines' property not found in this node\n",
      "unable to apply transformation: 'headlines' property not found in this node\n",
      "unable to apply transformation: 'headlines' property not found in this node\n",
      "unable to apply transformation: 'headlines' property not found in this node\n",
      "unable to apply transformation: 'headlines' property not found in this node\n",
      "unable to apply transformation: 'headlines' property not found in this node\n",
      "unable to apply transformation: 'headlines' property not found in this node\n",
      "unable to apply transformation: 'headlines' property not found in this node\n"
     ]
    },
    {
     "data": {
      "application/vnd.jupyter.widget-view+json": {
       "model_id": "c296439989fe42b9913d60851d22c708",
       "version_major": 2,
       "version_minor": 0
      },
      "text/plain": [
       "Applying SummaryExtractor:   0%|          | 0/9 [00:00<?, ?it/s]"
      ]
     },
     "metadata": {},
     "output_type": "display_data"
    },
    {
     "name": "stderr",
     "output_type": "stream",
     "text": [
      "Property 'summary' already exists in node '672ee0'. Skipping!\n",
      "Property 'summary' already exists in node '95e9d3'. Skipping!\n",
      "Property 'summary' already exists in node '96ff50'. Skipping!\n",
      "Property 'summary' already exists in node '72a38b'. Skipping!\n"
     ]
    },
    {
     "data": {
      "application/vnd.jupyter.widget-view+json": {
       "model_id": "65df6cd84c28479297d82f61e45e2f83",
       "version_major": 2,
       "version_minor": 0
      },
      "text/plain": [
       "Applying CustomNodeFilter:   0%|          | 0/5 [00:00<?, ?it/s]"
      ]
     },
     "metadata": {},
     "output_type": "display_data"
    },
    {
     "data": {
      "application/vnd.jupyter.widget-view+json": {
       "model_id": "4f6e7a56950a412a92172dd9226d5473",
       "version_major": 2,
       "version_minor": 0
      },
      "text/plain": [
       "Applying [EmbeddingExtractor, ThemesExtractor, NERExtractor]:   0%|          | 0/19 [00:00<?, ?it/s]"
      ]
     },
     "metadata": {},
     "output_type": "display_data"
    },
    {
     "name": "stderr",
     "output_type": "stream",
     "text": [
      "Property 'summary_embedding' already exists in node '672ee0'. Skipping!\n",
      "Property 'summary_embedding' already exists in node '96ff50'. Skipping!\n",
      "Property 'summary_embedding' already exists in node '95e9d3'. Skipping!\n",
      "Property 'summary_embedding' already exists in node '72a38b'. Skipping!\n"
     ]
    },
    {
     "data": {
      "application/vnd.jupyter.widget-view+json": {
       "model_id": "0b54c33c77de40f0bb1853a5b867f52e",
       "version_major": 2,
       "version_minor": 0
      },
      "text/plain": [
       "Applying [CosineSimilarityBuilder, OverlapScoreBuilder]:   0%|          | 0/2 [00:00<?, ?it/s]"
      ]
     },
     "metadata": {},
     "output_type": "display_data"
    },
    {
     "data": {
      "application/vnd.jupyter.widget-view+json": {
       "model_id": "950481ce3def45598f083a0b3014a0a2",
       "version_major": 2,
       "version_minor": 0
      },
      "text/plain": [
       "Generating personas:   0%|          | 0/3 [00:00<?, ?it/s]"
      ]
     },
     "metadata": {},
     "output_type": "display_data"
    },
    {
     "data": {
      "application/vnd.jupyter.widget-view+json": {
       "model_id": "eec21c669f9e4503bdf3d65c87bf7db9",
       "version_major": 2,
       "version_minor": 0
      },
      "text/plain": [
       "Generating Scenarios:   0%|          | 0/3 [00:00<?, ?it/s]"
      ]
     },
     "metadata": {},
     "output_type": "display_data"
    },
    {
     "data": {
      "application/vnd.jupyter.widget-view+json": {
       "model_id": "17163feb4cc9409190a66c180241692f",
       "version_major": 2,
       "version_minor": 0
      },
      "text/plain": [
       "Generating Samples:   0%|          | 0/12 [00:00<?, ?it/s]"
      ]
     },
     "metadata": {},
     "output_type": "display_data"
    }
   ],
   "source": [
    "from ragas.llms import LangchainLLMWrapper\n",
    "from ragas.embeddings import LangchainEmbeddingsWrapper\n",
    "from langchain_openai import ChatOpenAI\n",
    "from langchain_openai import OpenAIEmbeddings\n",
    "from ragas.metrics import LLMContextRecall, Faithfulness, FactualCorrectness, ResponseRelevancy, ContextEntityRecall, NoiseSensitivity\n",
    "from ragas import evaluate, RunConfig, EvaluationDataset\n",
    "\n",
    "\n",
    "generator_llm = LangchainLLMWrapper(ChatOpenAI(model=\"gpt-4o\"))\n",
    "generator_embeddings = LangchainEmbeddingsWrapper(OpenAIEmbeddings())\n",
    "\n",
    "from ragas.testset import TestsetGenerator\n",
    "\n",
    "generator = TestsetGenerator(llm=generator_llm, embedding_model=generator_embeddings)\n",
    "dataset = generator.generate_with_langchain_docs(docs, testset_size=10)"
   ]
  },
  {
   "cell_type": "code",
   "execution_count": 27,
   "metadata": {},
   "outputs": [
    {
     "data": {
      "text/html": [
       "<div>\n",
       "<style scoped>\n",
       "    .dataframe tbody tr th:only-of-type {\n",
       "        vertical-align: middle;\n",
       "    }\n",
       "\n",
       "    .dataframe tbody tr th {\n",
       "        vertical-align: top;\n",
       "    }\n",
       "\n",
       "    .dataframe thead th {\n",
       "        text-align: right;\n",
       "    }\n",
       "</style>\n",
       "<table border=\"1\" class=\"dataframe\">\n",
       "  <thead>\n",
       "    <tr style=\"text-align: right;\">\n",
       "      <th></th>\n",
       "      <th>user_input</th>\n",
       "      <th>retrieved_contexts</th>\n",
       "      <th>reference_contexts</th>\n",
       "      <th>response</th>\n",
       "      <th>reference</th>\n",
       "      <th>synthesizer_name</th>\n",
       "    </tr>\n",
       "  </thead>\n",
       "  <tbody>\n",
       "    <tr>\n",
       "      <th>0</th>\n",
       "      <td>What is ALS and how does it affect the body?</td>\n",
       "      <td>[What is amyotrophic lateral sclerosis (ALS)?\\...</td>\n",
       "      <td>[Amyotrophic Lateral Sclerosis (ALS) | Nationa...</td>\n",
       "      <td>Amyotrophic lateral sclerosis (ALS) is a progr...</td>\n",
       "      <td>Amyotrophic lateral sclerosis (ALS), formerly ...</td>\n",
       "      <td>single_hop_specifc_query_synthesizer</td>\n",
       "    </tr>\n",
       "    <tr>\n",
       "      <th>1</th>\n",
       "      <td>how als get diagnosed?</td>\n",
       "      <td>[In 2021, a team of scientists led by the NIH ...</td>\n",
       "      <td>[How is amyotrophic lateral sclerosis (ALS) di...</td>\n",
       "      <td>ALS is diagnosed through a physical exam and a...</td>\n",
       "      <td>ALS is diagnosed by a neurologist familiar wit...</td>\n",
       "      <td>single_hop_specifc_query_synthesizer</td>\n",
       "    </tr>\n",
       "    <tr>\n",
       "      <th>2</th>\n",
       "      <td>What are the racial and ethnic factors that in...</td>\n",
       "      <td>[Age—Although the disease can strike at any ag...</td>\n",
       "      <td>[Who is more likely to get amyotrophic lateral...</td>\n",
       "      <td>Whites and non-Hispanics are most likely to de...</td>\n",
       "      <td>Whites and non-Hispanics are most likely to de...</td>\n",
       "      <td>single_hop_specifc_query_synthesizer</td>\n",
       "    </tr>\n",
       "    <tr>\n",
       "      <th>3</th>\n",
       "      <td>What role does the NIH play in ALS research?</td>\n",
       "      <td>[NINDS is the primary federal funder of resear...</td>\n",
       "      <td>[What are the latest updates on amyotrophic la...</td>\n",
       "      <td>The NIH, through its NINDS component, is the l...</td>\n",
       "      <td>The NIH, through its component NINDS, is the l...</td>\n",
       "      <td>single_hop_specifc_query_synthesizer</td>\n",
       "    </tr>\n",
       "    <tr>\n",
       "      <th>4</th>\n",
       "      <td>How is the diagnosis of Amyotrophic Lateral Sc...</td>\n",
       "      <td>[Scientific discoveries have resulted in the i...</td>\n",
       "      <td>[&lt;1-hop&gt;\\n\\nAmyotrophic Lateral Sclerosis (ALS...</td>\n",
       "      <td>Diagnosis of ALS is performed by a neurologist...</td>\n",
       "      <td>The diagnosis of Amyotrophic Lateral Sclerosis...</td>\n",
       "      <td>multi_hop_abstract_query_synthesizer</td>\n",
       "    </tr>\n",
       "    <tr>\n",
       "      <th>5</th>\n",
       "      <td>What are the diagnostic methods for Amyotrophi...</td>\n",
       "      <td>[In 2021, a team of scientists led by the NIH ...</td>\n",
       "      <td>[&lt;1-hop&gt;\\n\\nAmyotrophic Lateral Sclerosis (ALS...</td>\n",
       "      <td>ALS is diagnosed primarily by a neurologist fa...</td>\n",
       "      <td>Diagnosing Amyotrophic Lateral Sclerosis (ALS)...</td>\n",
       "      <td>multi_hop_abstract_query_synthesizer</td>\n",
       "    </tr>\n",
       "    <tr>\n",
       "      <th>6</th>\n",
       "      <td>What are the diagnostic methods for Amyotrophi...</td>\n",
       "      <td>[In 2021, a team of scientists led by the NIH ...</td>\n",
       "      <td>[&lt;1-hop&gt;\\n\\nAmyotrophic Lateral Sclerosis (ALS...</td>\n",
       "      <td>Amyotrophic Lateral Sclerosis (ALS) is diagnos...</td>\n",
       "      <td>Diagnosing Amyotrophic Lateral Sclerosis (ALS)...</td>\n",
       "      <td>multi_hop_abstract_query_synthesizer</td>\n",
       "    </tr>\n",
       "    <tr>\n",
       "      <th>7</th>\n",
       "      <td>What are the diagnostic methods for Amyotrophi...</td>\n",
       "      <td>[In 2021, a team of scientists led by the NIH ...</td>\n",
       "      <td>[&lt;1-hop&gt;\\n\\nAmyotrophic Lateral Sclerosis (ALS...</td>\n",
       "      <td>Diagnosing ALS typically involves a neurologis...</td>\n",
       "      <td>Diagnosing Amyotrophic Lateral Sclerosis (ALS)...</td>\n",
       "      <td>multi_hop_abstract_query_synthesizer</td>\n",
       "    </tr>\n",
       "    <tr>\n",
       "      <th>8</th>\n",
       "      <td>How do the strategic priorities set by NINDS f...</td>\n",
       "      <td>[NINDS is the primary federal funder of resear...</td>\n",
       "      <td>[&lt;1-hop&gt;\\n\\nWhat are the latest updates on amy...</td>\n",
       "      <td>The strategic priorities set by NINDS for ALS ...</td>\n",
       "      <td>The strategic priorities set by NINDS for ALS ...</td>\n",
       "      <td>multi_hop_specific_query_synthesizer</td>\n",
       "    </tr>\n",
       "    <tr>\n",
       "      <th>9</th>\n",
       "      <td>Wht r the risk factrs for amyotrophic lateral ...</td>\n",
       "      <td>[A risk factor is a condition or behavior that...</td>\n",
       "      <td>[&lt;1-hop&gt;\\n\\nAmyotrophic Lateral Sclerosis (ALS...</td>\n",
       "      <td>Risk factors for amyotrophic lateral sclerosis...</td>\n",
       "      <td>The risk factors for amyotrophic lateral scler...</td>\n",
       "      <td>multi_hop_specific_query_synthesizer</td>\n",
       "    </tr>\n",
       "    <tr>\n",
       "      <th>10</th>\n",
       "      <td>How is amyotrophic lateral sclerosis (ALS) dia...</td>\n",
       "      <td>[In 2021, a team of scientists led by the NIH ...</td>\n",
       "      <td>[&lt;1-hop&gt;\\n\\nHow is amyotrophic lateral scleros...</td>\n",
       "      <td>ALS is diagnosed by a neurologist through clin...</td>\n",
       "      <td>Amyotrophic lateral sclerosis (ALS) is diagnos...</td>\n",
       "      <td>multi_hop_specific_query_synthesizer</td>\n",
       "    </tr>\n",
       "    <tr>\n",
       "      <th>11</th>\n",
       "      <td>What are the current research priorities and c...</td>\n",
       "      <td>[Scientific discoveries have resulted in the i...</td>\n",
       "      <td>[&lt;1-hop&gt;\\n\\nAmyotrophic Lateral Sclerosis (ALS...</td>\n",
       "      <td>Current research priorities for ALS focus on u...</td>\n",
       "      <td>The current research priorities for developing...</td>\n",
       "      <td>multi_hop_specific_query_synthesizer</td>\n",
       "    </tr>\n",
       "  </tbody>\n",
       "</table>\n",
       "</div>"
      ],
      "text/plain": [
       "                                           user_input  \\\n",
       "0        What is ALS and how does it affect the body?   \n",
       "1                              how als get diagnosed?   \n",
       "2   What are the racial and ethnic factors that in...   \n",
       "3        What role does the NIH play in ALS research?   \n",
       "4   How is the diagnosis of Amyotrophic Lateral Sc...   \n",
       "5   What are the diagnostic methods for Amyotrophi...   \n",
       "6   What are the diagnostic methods for Amyotrophi...   \n",
       "7   What are the diagnostic methods for Amyotrophi...   \n",
       "8   How do the strategic priorities set by NINDS f...   \n",
       "9   Wht r the risk factrs for amyotrophic lateral ...   \n",
       "10  How is amyotrophic lateral sclerosis (ALS) dia...   \n",
       "11  What are the current research priorities and c...   \n",
       "\n",
       "                                   retrieved_contexts  \\\n",
       "0   [What is amyotrophic lateral sclerosis (ALS)?\\...   \n",
       "1   [In 2021, a team of scientists led by the NIH ...   \n",
       "2   [Age—Although the disease can strike at any ag...   \n",
       "3   [NINDS is the primary federal funder of resear...   \n",
       "4   [Scientific discoveries have resulted in the i...   \n",
       "5   [In 2021, a team of scientists led by the NIH ...   \n",
       "6   [In 2021, a team of scientists led by the NIH ...   \n",
       "7   [In 2021, a team of scientists led by the NIH ...   \n",
       "8   [NINDS is the primary federal funder of resear...   \n",
       "9   [A risk factor is a condition or behavior that...   \n",
       "10  [In 2021, a team of scientists led by the NIH ...   \n",
       "11  [Scientific discoveries have resulted in the i...   \n",
       "\n",
       "                                   reference_contexts  \\\n",
       "0   [Amyotrophic Lateral Sclerosis (ALS) | Nationa...   \n",
       "1   [How is amyotrophic lateral sclerosis (ALS) di...   \n",
       "2   [Who is more likely to get amyotrophic lateral...   \n",
       "3   [What are the latest updates on amyotrophic la...   \n",
       "4   [<1-hop>\\n\\nAmyotrophic Lateral Sclerosis (ALS...   \n",
       "5   [<1-hop>\\n\\nAmyotrophic Lateral Sclerosis (ALS...   \n",
       "6   [<1-hop>\\n\\nAmyotrophic Lateral Sclerosis (ALS...   \n",
       "7   [<1-hop>\\n\\nAmyotrophic Lateral Sclerosis (ALS...   \n",
       "8   [<1-hop>\\n\\nWhat are the latest updates on amy...   \n",
       "9   [<1-hop>\\n\\nAmyotrophic Lateral Sclerosis (ALS...   \n",
       "10  [<1-hop>\\n\\nHow is amyotrophic lateral scleros...   \n",
       "11  [<1-hop>\\n\\nAmyotrophic Lateral Sclerosis (ALS...   \n",
       "\n",
       "                                             response  \\\n",
       "0   Amyotrophic lateral sclerosis (ALS) is a progr...   \n",
       "1   ALS is diagnosed through a physical exam and a...   \n",
       "2   Whites and non-Hispanics are most likely to de...   \n",
       "3   The NIH, through its NINDS component, is the l...   \n",
       "4   Diagnosis of ALS is performed by a neurologist...   \n",
       "5   ALS is diagnosed primarily by a neurologist fa...   \n",
       "6   Amyotrophic Lateral Sclerosis (ALS) is diagnos...   \n",
       "7   Diagnosing ALS typically involves a neurologis...   \n",
       "8   The strategic priorities set by NINDS for ALS ...   \n",
       "9   Risk factors for amyotrophic lateral sclerosis...   \n",
       "10  ALS is diagnosed by a neurologist through clin...   \n",
       "11  Current research priorities for ALS focus on u...   \n",
       "\n",
       "                                            reference  \\\n",
       "0   Amyotrophic lateral sclerosis (ALS), formerly ...   \n",
       "1   ALS is diagnosed by a neurologist familiar wit...   \n",
       "2   Whites and non-Hispanics are most likely to de...   \n",
       "3   The NIH, through its component NINDS, is the l...   \n",
       "4   The diagnosis of Amyotrophic Lateral Sclerosis...   \n",
       "5   Diagnosing Amyotrophic Lateral Sclerosis (ALS)...   \n",
       "6   Diagnosing Amyotrophic Lateral Sclerosis (ALS)...   \n",
       "7   Diagnosing Amyotrophic Lateral Sclerosis (ALS)...   \n",
       "8   The strategic priorities set by NINDS for ALS ...   \n",
       "9   The risk factors for amyotrophic lateral scler...   \n",
       "10  Amyotrophic lateral sclerosis (ALS) is diagnos...   \n",
       "11  The current research priorities for developing...   \n",
       "\n",
       "                        synthesizer_name  \n",
       "0   single_hop_specifc_query_synthesizer  \n",
       "1   single_hop_specifc_query_synthesizer  \n",
       "2   single_hop_specifc_query_synthesizer  \n",
       "3   single_hop_specifc_query_synthesizer  \n",
       "4   multi_hop_abstract_query_synthesizer  \n",
       "5   multi_hop_abstract_query_synthesizer  \n",
       "6   multi_hop_abstract_query_synthesizer  \n",
       "7   multi_hop_abstract_query_synthesizer  \n",
       "8   multi_hop_specific_query_synthesizer  \n",
       "9   multi_hop_specific_query_synthesizer  \n",
       "10  multi_hop_specific_query_synthesizer  \n",
       "11  multi_hop_specific_query_synthesizer  "
      ]
     },
     "execution_count": 27,
     "metadata": {},
     "output_type": "execute_result"
    }
   ],
   "source": [
    "for test_row in dataset:\n",
    "  response = graph.invoke({\"question\" : test_row.eval_sample.user_input})\n",
    "  test_row.eval_sample.response = response[\"response\"]\n",
    "  test_row.eval_sample.retrieved_contexts = [context.page_content for context in response[\"context\"]]\n",
    "\n",
    "dataset.to_pandas()"
   ]
  },
  {
   "cell_type": "code",
   "execution_count": 28,
   "metadata": {},
   "outputs": [
    {
     "data": {
      "application/vnd.jupyter.widget-view+json": {
       "model_id": "7b26582b2864414ea54ee9fa179c320a",
       "version_major": 2,
       "version_minor": 0
      },
      "text/plain": [
       "Evaluating:   0%|          | 0/72 [00:00<?, ?it/s]"
      ]
     },
     "metadata": {},
     "output_type": "display_data"
    },
    {
     "data": {
      "text/plain": [
       "{'context_recall': 0.6458, 'faithfulness': 0.8343, 'factual_correctness': 0.5375, 'answer_relevancy': 0.9348, 'context_entity_recall': 0.3674, 'noise_sensitivity_relevant': 0.1031}"
      ]
     },
     "execution_count": 28,
     "metadata": {},
     "output_type": "execute_result"
    }
   ],
   "source": [
    "\n",
    "evaluation_dataset = EvaluationDataset.from_pandas(dataset.to_pandas())\n",
    "\n",
    "\n",
    "evaluator_llm = LangchainLLMWrapper(ChatOpenAI(model=\"gpt-4o\"))\n",
    "custom_run_config = RunConfig(timeout=360)\n",
    "\n",
    "result = evaluate(\n",
    "    dataset=evaluation_dataset,\n",
    "    metrics=[LLMContextRecall(), Faithfulness(), FactualCorrectness(), ResponseRelevancy(), ContextEntityRecall(), NoiseSensitivity()],\n",
    "    llm=evaluator_llm,\n",
    "    run_config=custom_run_config\n",
    ")\n",
    "result"
   ]
  },
  {
   "cell_type": "markdown",
   "metadata": {},
   "source": [
    "### TOOLS"
   ]
  },
  {
   "cell_type": "code",
   "execution_count": 29,
   "metadata": {},
   "outputs": [],
   "source": [
    "from langchain_core.tools import tool\n",
    "from langchain_core.messages import HumanMessage\n",
    "\n",
    "@tool\n",
    "def ai_rag_tool(question: str) -> str:\n",
    "    \"\"\"Answer questions about ALS based on the retrieved documents. Input should be a fully formed question.\"\"\"\n",
    "    response = graph.invoke({\"question\": question})\n",
    "    return{\n",
    "        \"messages\": [HumanMessage(content=response[\"response\"])],\n",
    "        \"context\": response[\"context\"],\n",
    "    }"
   ]
  },
  {
   "cell_type": "markdown",
   "metadata": {},
   "source": [
    "## AGENT"
   ]
  },
  {
   "cell_type": "code",
   "execution_count": 31,
   "metadata": {},
   "outputs": [],
   "source": [
    "from langchain_community.tools.tavily_search import TavilySearchResults\n",
    "from langchain_community.tools.arxiv.tool import ArxivQueryRun\n",
    "\n",
    "tavily_tool = TavilySearchResults(max_results=5)\n",
    "\n",
    "tool_belt = [\n",
    "    tavily_tool,\n",
    "    ai_rag_tool,\n",
    "]"
   ]
  },
  {
   "cell_type": "code",
   "execution_count": 32,
   "metadata": {},
   "outputs": [],
   "source": [
    "from langchain_openai import ChatOpenAI\n",
    "\n",
    "model = ChatOpenAI(model=\"gpt-4o\", temperature=0)\n",
    "\n",
    "model = model.bind_tools(tool_belt)"
   ]
  },
  {
   "cell_type": "code",
   "execution_count": 33,
   "metadata": {},
   "outputs": [],
   "source": [
    "from typing import TypedDict, Annotated\n",
    "from langgraph.graph.message import add_messages\n",
    "import operator\n",
    "from langchain_core.messages import BaseMessage\n",
    "from langchain_core.documents import Document;\n",
    "\n",
    "\n",
    "class AgentState(TypedDict):\n",
    "  messages: Annotated[list, add_messages]"
   ]
  },
  {
   "cell_type": "code",
   "execution_count": 49,
   "metadata": {},
   "outputs": [],
   "source": [
    "from langgraph.prebuilt import ToolNode\n",
    "\n",
    "def call_model(state):\n",
    "    messages = state[\"messages\"]\n",
    "    response = model.invoke(messages, config={\"tool_choice\": \"auto\"})  # Ensure it knows it can use tools\n",
    "    return {\"messages\": [response]}\n",
    "\n",
    "tool_node = ToolNode(tool_belt)"
   ]
  },
  {
   "cell_type": "code",
   "execution_count": 50,
   "metadata": {},
   "outputs": [
    {
     "data": {
      "text/plain": [
       "<langgraph.graph.state.StateGraph at 0x7fe32c16ead0>"
      ]
     },
     "execution_count": 50,
     "metadata": {},
     "output_type": "execute_result"
    }
   ],
   "source": [
    "from langgraph.graph import StateGraph, END\n",
    "\n",
    "uncompiled_graph = StateGraph(AgentState)\n",
    "\n",
    "uncompiled_graph.add_node(\"agent\", call_model)\n",
    "uncompiled_graph.add_node(\"action\", tool_node)"
   ]
  },
  {
   "cell_type": "code",
   "execution_count": 51,
   "metadata": {},
   "outputs": [
    {
     "data": {
      "text/plain": [
       "<langgraph.graph.state.StateGraph at 0x7fe32c16ead0>"
      ]
     },
     "execution_count": 51,
     "metadata": {},
     "output_type": "execute_result"
    }
   ],
   "source": [
    "uncompiled_graph.set_entry_point(\"agent\")"
   ]
  },
  {
   "cell_type": "code",
   "execution_count": 52,
   "metadata": {},
   "outputs": [
    {
     "data": {
      "text/plain": [
       "<langgraph.graph.state.StateGraph at 0x7fe32c16ead0>"
      ]
     },
     "execution_count": 52,
     "metadata": {},
     "output_type": "execute_result"
    }
   ],
   "source": [
    "def should_continue(state):\n",
    "    last_message = state[\"messages\"][-1]\n",
    "    print(f\"Checking if model wants to call a tool: {last_message}\")  # Debugging\n",
    "\n",
    "    if hasattr(last_message, \"tool_calls\") and last_message.tool_calls:\n",
    "        print(f\"Model wants to call a tool: {last_message.tool_calls}\")\n",
    "        return \"action\"\n",
    "\n",
    "    print(\"No tool calls detected, ending execution.\")\n",
    "    return END\n",
    "\n",
    "\n",
    "### Add conditional edges to the graph\n",
    "uncompiled_graph.add_conditional_edges(\n",
    "    \"agent\",\n",
    "    should_continue\n",
    ")"
   ]
  },
  {
   "cell_type": "code",
   "execution_count": 53,
   "metadata": {},
   "outputs": [],
   "source": [
    "uncompiled_graph.add_edge(\"action\", \"agent\")\n",
    "compiled_graph = uncompiled_graph.compile()"
   ]
  },
  {
   "cell_type": "code",
   "execution_count": 54,
   "metadata": {},
   "outputs": [
    {
     "name": "stdout",
     "output_type": "stream",
     "text": [
      "Checking if model wants to call a tool: content='' additional_kwargs={'tool_calls': [{'id': 'call_aQDNiRQwtvz8ELjUBromCt93', 'function': {'arguments': '{\"question\":\"Who is more likely to get ALS?\"}', 'name': 'ai_rag_tool'}, 'type': 'function'}], 'refusal': None} response_metadata={'token_usage': {'completion_tokens': 24, 'prompt_tokens': 121, 'total_tokens': 145, 'completion_tokens_details': {'accepted_prediction_tokens': 0, 'audio_tokens': 0, 'reasoning_tokens': 0, 'rejected_prediction_tokens': 0}, 'prompt_tokens_details': {'audio_tokens': 0, 'cached_tokens': 0}}, 'model_name': 'gpt-4o-2024-08-06', 'system_fingerprint': 'fp_eb9dce56a8', 'finish_reason': 'tool_calls', 'logprobs': None} id='run-c1cfa789-465f-49fe-9b01-2af3bfbdc0a5-0' tool_calls=[{'name': 'ai_rag_tool', 'args': {'question': 'Who is more likely to get ALS?'}, 'id': 'call_aQDNiRQwtvz8ELjUBromCt93', 'type': 'tool_call'}] usage_metadata={'input_tokens': 121, 'output_tokens': 24, 'total_tokens': 145, 'input_token_details': {'audio': 0, 'cache_read': 0}, 'output_token_details': {'audio': 0, 'reasoning': 0}}\n",
      "Model wants to call a tool: [{'name': 'ai_rag_tool', 'args': {'question': 'Who is more likely to get ALS?'}, 'id': 'call_aQDNiRQwtvz8ELjUBromCt93', 'type': 'tool_call'}]\n",
      "Receiving update from node: 'agent'\n",
      "[AIMessage(content='', additional_kwargs={'tool_calls': [{'id': 'call_aQDNiRQwtvz8ELjUBromCt93', 'function': {'arguments': '{\"question\":\"Who is more likely to get ALS?\"}', 'name': 'ai_rag_tool'}, 'type': 'function'}], 'refusal': None}, response_metadata={'token_usage': {'completion_tokens': 24, 'prompt_tokens': 121, 'total_tokens': 145, 'completion_tokens_details': {'accepted_prediction_tokens': 0, 'audio_tokens': 0, 'reasoning_tokens': 0, 'rejected_prediction_tokens': 0}, 'prompt_tokens_details': {'audio_tokens': 0, 'cached_tokens': 0}}, 'model_name': 'gpt-4o-2024-08-06', 'system_fingerprint': 'fp_eb9dce56a8', 'finish_reason': 'tool_calls', 'logprobs': None}, id='run-c1cfa789-465f-49fe-9b01-2af3bfbdc0a5-0', tool_calls=[{'name': 'ai_rag_tool', 'args': {'question': 'Who is more likely to get ALS?'}, 'id': 'call_aQDNiRQwtvz8ELjUBromCt93', 'type': 'tool_call'}], usage_metadata={'input_tokens': 121, 'output_tokens': 24, 'total_tokens': 145, 'input_token_details': {'audio': 0, 'cache_read': 0}, 'output_token_details': {'audio': 0, 'reasoning': 0}})]\n",
      "\n",
      "\n",
      "\n",
      "Receiving update from node: 'action'\n",
      "Tool node received: {'messages': [ToolMessage(content='{\\'messages\\': [HumanMessage(content=\\'ALS is more likely to develop in individuals aged 55 to 75, with men being slightly more susceptible than women, particularly at younger ages. White and non-Hispanic individuals are most likely to develop the disease, although ALS affects people of all races and ethnicities. Additionally, military veterans and those with a family history of ALS are at increased risk.\\', additional_kwargs={}, response_metadata={})], \\'context\\': [Document(metadata={\\'source\\': \\'data/overview.html\\', \\'title\\': \\'Amyotrophic Lateral Sclerosis (ALS) | National Institute of Neurological Disorders and Stroke\\', \\'_id\\': \\'146003a6af2742d49a944d8a23bf146b\\', \\'_collection_name\\': \\'ai_caregiver\\'}, page_content=\\'Age—Although the disease can strike at any age, symptoms most commonly develop between the ages of 55 and 75.\\\\nBiological sex—Men are slightly more likely to develop ALS than women. However, at older ages, men and women are equally likely to be diagnosed with ALS. \\\\nRace and ethnicity—Whites and non-Hispanics are most likely to develop the disease, but ALS affects people of all races and ethnic backgrounds.\\'), Document(metadata={\\'source\\': \\'data/overview.html\\', \\'title\\': \\'Amyotrophic Lateral Sclerosis (ALS) | National Institute of Neurological Disorders and Stroke\\', \\'_id\\': \\'d350dcb580c94805917b2ae6984de4bf\\', \\'_collection_name\\': \\'ai_caregiver\\'}, page_content=\\'Some studies suggest military veterans are about one and a half to two times more likely to develop ALS, although the reason for this is unclear. Possible risk factors for veterans include exposure to lead, pesticides, and other environmental toxins. Some studies have also shown that head injury can be associated with higher risk for ALS, but more research is needed to understand this connection. \\\\nSporadic and Familial ALS\\\\nNearly all cases of\\\\xa0ALS\\\\xa0are considered sporadic, meaning the disease seems to occur at random with no clearly associated risk factors and no family history of the disease. Although family members of people with ALS are at an increased risk for the disease, the overall risk is very low, and most will not develop ALS.\\'), Document(metadata={\\'source\\': \\'data/overview.html\\', \\'title\\': \\'Amyotrophic Lateral Sclerosis (ALS) | National Institute of Neurological Disorders and Stroke\\', \\'_id\\': \\'cba2017a73be4f3189673b67a8ff95b5\\', \\'_collection_name\\': \\'ai_caregiver\\'}, page_content=\\'About 10% of all\\\\xa0ALS\\\\xa0cases are familial (also called inherited or genetic). Changes in more than a dozen genes have been found to cause familial\\\\xa0ALS.\\'), Document(metadata={\\'source\\': \\'data/overview.html\\', \\'title\\': \\'Amyotrophic Lateral Sclerosis (ALS) | National Institute of Neurological Disorders and Stroke\\', \\'_id\\': \\'c4072d0329df4466befd35c9cc2acbc1\\', \\'_collection_name\\': \\'ai_caregiver\\'}, page_content=\\'Eventually, people with ALS will not be able to stand or walk, get in or out of bed on their own, use their hands and arms, or breathe on their own. Because they usually remain able to reason, remember, and understand, they are aware of their progressive loss of function. This can cause anxiety and depression in the person with ALS and their loved ones. Although not as common, people with ALS also may experience problems with language or decision-making. Some also develop a form of dementia known as FTD-ALS.\\\\nMost people with ALS die from being unable to breathe on their own (known as respiratory failure,) usually within three to five years from when the symptoms first appear. However, about 10% survive for a decade or more.\\\\nWho is more likely to get amyotrophic lateral sclerosis (ALS)?\\'), Document(metadata={\\'source\\': \\'data/overview.html\\', \\'title\\': \\'Amyotrophic Lateral Sclerosis (ALS) | National Institute of Neurological Disorders and Stroke\\', \\'_id\\': \\'079bbe3110c640cebdecc0d656529e18\\', \\'_collection_name\\': \\'ai_caregiver\\'}, page_content=\"In 2021, a team of scientists led by the\\\\xa0NIH\\\\xa0and the Uniformed Services University of the Health Sciences announced it had discovered a unique form of genetic\\\\xa0ALS\\\\xa0that affects children as early as age 4 years. This childhood form is linked to the gene SPTLC1 that is part of the body\\'s fat production system and may be caused by changes in the way the body metabolizes fatty materials (lipids).\\\\nHow is amyotrophic lateral sclerosis (ALS) diagnosed and treated?\\\\nDiagnosing ALS\\\\nIt is important to get an accurate ALS diagnosis as soon as possible. ALS treatments may be most effective early in the course of the disease. A neurologist familiar with ALS can help a person get diagnosed early after symptom onset.\")]}', name='ai_rag_tool', id='82a89018-67b8-447b-b44c-2e4e03d6e9a0', tool_call_id='call_aQDNiRQwtvz8ELjUBromCt93')]}\n",
      "Tool Used: ai_rag_tool\n",
      "[ToolMessage(content='{\\'messages\\': [HumanMessage(content=\\'ALS is more likely to develop in individuals aged 55 to 75, with men being slightly more susceptible than women, particularly at younger ages. White and non-Hispanic individuals are most likely to develop the disease, although ALS affects people of all races and ethnicities. Additionally, military veterans and those with a family history of ALS are at increased risk.\\', additional_kwargs={}, response_metadata={})], \\'context\\': [Document(metadata={\\'source\\': \\'data/overview.html\\', \\'title\\': \\'Amyotrophic Lateral Sclerosis (ALS) | National Institute of Neurological Disorders and Stroke\\', \\'_id\\': \\'146003a6af2742d49a944d8a23bf146b\\', \\'_collection_name\\': \\'ai_caregiver\\'}, page_content=\\'Age—Although the disease can strike at any age, symptoms most commonly develop between the ages of 55 and 75.\\\\nBiological sex—Men are slightly more likely to develop ALS than women. However, at older ages, men and women are equally likely to be diagnosed with ALS. \\\\nRace and ethnicity—Whites and non-Hispanics are most likely to develop the disease, but ALS affects people of all races and ethnic backgrounds.\\'), Document(metadata={\\'source\\': \\'data/overview.html\\', \\'title\\': \\'Amyotrophic Lateral Sclerosis (ALS) | National Institute of Neurological Disorders and Stroke\\', \\'_id\\': \\'d350dcb580c94805917b2ae6984de4bf\\', \\'_collection_name\\': \\'ai_caregiver\\'}, page_content=\\'Some studies suggest military veterans are about one and a half to two times more likely to develop ALS, although the reason for this is unclear. Possible risk factors for veterans include exposure to lead, pesticides, and other environmental toxins. Some studies have also shown that head injury can be associated with higher risk for ALS, but more research is needed to understand this connection. \\\\nSporadic and Familial ALS\\\\nNearly all cases of\\\\xa0ALS\\\\xa0are considered sporadic, meaning the disease seems to occur at random with no clearly associated risk factors and no family history of the disease. Although family members of people with ALS are at an increased risk for the disease, the overall risk is very low, and most will not develop ALS.\\'), Document(metadata={\\'source\\': \\'data/overview.html\\', \\'title\\': \\'Amyotrophic Lateral Sclerosis (ALS) | National Institute of Neurological Disorders and Stroke\\', \\'_id\\': \\'cba2017a73be4f3189673b67a8ff95b5\\', \\'_collection_name\\': \\'ai_caregiver\\'}, page_content=\\'About 10% of all\\\\xa0ALS\\\\xa0cases are familial (also called inherited or genetic). Changes in more than a dozen genes have been found to cause familial\\\\xa0ALS.\\'), Document(metadata={\\'source\\': \\'data/overview.html\\', \\'title\\': \\'Amyotrophic Lateral Sclerosis (ALS) | National Institute of Neurological Disorders and Stroke\\', \\'_id\\': \\'c4072d0329df4466befd35c9cc2acbc1\\', \\'_collection_name\\': \\'ai_caregiver\\'}, page_content=\\'Eventually, people with ALS will not be able to stand or walk, get in or out of bed on their own, use their hands and arms, or breathe on their own. Because they usually remain able to reason, remember, and understand, they are aware of their progressive loss of function. This can cause anxiety and depression in the person with ALS and their loved ones. Although not as common, people with ALS also may experience problems with language or decision-making. Some also develop a form of dementia known as FTD-ALS.\\\\nMost people with ALS die from being unable to breathe on their own (known as respiratory failure,) usually within three to five years from when the symptoms first appear. However, about 10% survive for a decade or more.\\\\nWho is more likely to get amyotrophic lateral sclerosis (ALS)?\\'), Document(metadata={\\'source\\': \\'data/overview.html\\', \\'title\\': \\'Amyotrophic Lateral Sclerosis (ALS) | National Institute of Neurological Disorders and Stroke\\', \\'_id\\': \\'079bbe3110c640cebdecc0d656529e18\\', \\'_collection_name\\': \\'ai_caregiver\\'}, page_content=\"In 2021, a team of scientists led by the\\\\xa0NIH\\\\xa0and the Uniformed Services University of the Health Sciences announced it had discovered a unique form of genetic\\\\xa0ALS\\\\xa0that affects children as early as age 4 years. This childhood form is linked to the gene SPTLC1 that is part of the body\\'s fat production system and may be caused by changes in the way the body metabolizes fatty materials (lipids).\\\\nHow is amyotrophic lateral sclerosis (ALS) diagnosed and treated?\\\\nDiagnosing ALS\\\\nIt is important to get an accurate ALS diagnosis as soon as possible. ALS treatments may be most effective early in the course of the disease. A neurologist familiar with ALS can help a person get diagnosed early after symptom onset.\")]}', name='ai_rag_tool', id='82a89018-67b8-447b-b44c-2e4e03d6e9a0', tool_call_id='call_aQDNiRQwtvz8ELjUBromCt93')]\n",
      "\n",
      "\n",
      "\n",
      "Checking if model wants to call a tool: content='ALS (Amyotrophic Lateral Sclerosis) is more likely to develop in individuals aged 55 to 75. Men are slightly more susceptible than women, particularly at younger ages, although at older ages, the likelihood is equal between men and women. White and non-Hispanic individuals are most likely to develop the disease, although ALS affects people of all races and ethnicities. Additionally, military veterans and those with a family history of ALS are at increased risk.' additional_kwargs={'refusal': None} response_metadata={'token_usage': {'completion_tokens': 96, 'prompt_tokens': 1209, 'total_tokens': 1305, 'completion_tokens_details': {'accepted_prediction_tokens': 0, 'audio_tokens': 0, 'reasoning_tokens': 0, 'rejected_prediction_tokens': 0}, 'prompt_tokens_details': {'audio_tokens': 0, 'cached_tokens': 0}}, 'model_name': 'gpt-4o-2024-08-06', 'system_fingerprint': 'fp_eb9dce56a8', 'finish_reason': 'stop', 'logprobs': None} id='run-778e84b7-c15d-4bc6-9adc-e593653d7c62-0' usage_metadata={'input_tokens': 1209, 'output_tokens': 96, 'total_tokens': 1305, 'input_token_details': {'audio': 0, 'cache_read': 0}, 'output_token_details': {'audio': 0, 'reasoning': 0}}\n",
      "No tool calls detected, ending execution.\n",
      "Receiving update from node: 'agent'\n",
      "[AIMessage(content='ALS (Amyotrophic Lateral Sclerosis) is more likely to develop in individuals aged 55 to 75. Men are slightly more susceptible than women, particularly at younger ages, although at older ages, the likelihood is equal between men and women. White and non-Hispanic individuals are most likely to develop the disease, although ALS affects people of all races and ethnicities. Additionally, military veterans and those with a family history of ALS are at increased risk.', additional_kwargs={'refusal': None}, response_metadata={'token_usage': {'completion_tokens': 96, 'prompt_tokens': 1209, 'total_tokens': 1305, 'completion_tokens_details': {'accepted_prediction_tokens': 0, 'audio_tokens': 0, 'reasoning_tokens': 0, 'rejected_prediction_tokens': 0}, 'prompt_tokens_details': {'audio_tokens': 0, 'cached_tokens': 0}}, 'model_name': 'gpt-4o-2024-08-06', 'system_fingerprint': 'fp_eb9dce56a8', 'finish_reason': 'stop', 'logprobs': None}, id='run-778e84b7-c15d-4bc6-9adc-e593653d7c62-0', usage_metadata={'input_tokens': 1209, 'output_tokens': 96, 'total_tokens': 1305, 'input_token_details': {'audio': 0, 'cache_read': 0}, 'output_token_details': {'audio': 0, 'reasoning': 0}})]\n",
      "\n",
      "\n",
      "\n"
     ]
    }
   ],
   "source": [
    "from langchain_core.messages import HumanMessage\n",
    "\n",
    "inputs = {\"messages\" : [HumanMessage(content=\"Who is more likely to get ALS?\")]}\n",
    "\n",
    "async for chunk in compiled_graph.astream(inputs, stream_mode=\"updates\"):\n",
    "    for node, values in chunk.items():\n",
    "        print(f\"Receiving update from node: '{node}'\")\n",
    "        \n",
    "        if node == \"action\":\n",
    "            # Check what the tool node is actually doing\n",
    "            print(f\"Tool node received: {values}\")\n",
    "            if \"messages\" in values and values[\"messages\"]:\n",
    "                print(f\"Tool Used: {values['messages'][0].name}\")\n",
    "        \n",
    "        print(values[\"messages\"])\n",
    "        print(\"\\n\\n\")"
   ]
  },
  {
   "cell_type": "code",
   "execution_count": 40,
   "metadata": {},
   "outputs": [
    {
     "name": "stdout",
     "output_type": "stream",
     "text": [
      "Checking if model wants to call a tool: content='' additional_kwargs={'tool_calls': [{'id': 'call_s7mOeEt4iImPFujKgWOyrv0w', 'function': {'arguments': '{\"question\":\"Who is more likely to get ALS?\"}', 'name': 'ai_rag_tool'}, 'type': 'function'}], 'refusal': None} response_metadata={'token_usage': {'completion_tokens': 24, 'prompt_tokens': 121, 'total_tokens': 145, 'completion_tokens_details': {'accepted_prediction_tokens': 0, 'audio_tokens': 0, 'reasoning_tokens': 0, 'rejected_prediction_tokens': 0}, 'prompt_tokens_details': {'audio_tokens': 0, 'cached_tokens': 0}}, 'model_name': 'gpt-4o-2024-08-06', 'system_fingerprint': 'fp_f9f4fb6dbf', 'finish_reason': 'tool_calls', 'logprobs': None} id='run-8d9d18f7-97bf-4781-ae95-ffc9c206292d-0' tool_calls=[{'name': 'ai_rag_tool', 'args': {'question': 'Who is more likely to get ALS?'}, 'id': 'call_s7mOeEt4iImPFujKgWOyrv0w', 'type': 'tool_call'}] usage_metadata={'input_tokens': 121, 'output_tokens': 24, 'total_tokens': 145, 'input_token_details': {'audio': 0, 'cache_read': 0}, 'output_token_details': {'audio': 0, 'reasoning': 0}}\n",
      "Model wants to call a tool: [{'name': 'ai_rag_tool', 'args': {'question': 'Who is more likely to get ALS?'}, 'id': 'call_s7mOeEt4iImPFujKgWOyrv0w', 'type': 'tool_call'}]\n",
      "Checking if model wants to call a tool: content='Men, particularly between the ages of 55 and 75, are slightly more likely to develop ALS than women. Additionally, military veterans may have a one and a half to two times higher risk, although the reasons for this increased likelihood are unclear. ALS primarily affects whites and non-Hispanics, but it can impact individuals of all races and ethnicities.' additional_kwargs={'refusal': None} response_metadata={'token_usage': {'completion_tokens': 75, 'prompt_tokens': 1210, 'total_tokens': 1285, 'completion_tokens_details': {'accepted_prediction_tokens': 0, 'audio_tokens': 0, 'reasoning_tokens': 0, 'rejected_prediction_tokens': 0}, 'prompt_tokens_details': {'audio_tokens': 0, 'cached_tokens': 0}}, 'model_name': 'gpt-4o-2024-08-06', 'system_fingerprint': 'fp_f9f4fb6dbf', 'finish_reason': 'stop', 'logprobs': None} id='run-caf35788-ccea-4c92-98e5-5e31aa278ac4-0' usage_metadata={'input_tokens': 1210, 'output_tokens': 75, 'total_tokens': 1285, 'input_token_details': {'audio': 0, 'cache_read': 0}, 'output_token_details': {'audio': 0, 'reasoning': 0}}\n",
      "No tool calls detected, ending execution.\n"
     ]
    },
    {
     "data": {
      "text/plain": [
       "[HumanMessage(content='Who is more likely to get ALS?', additional_kwargs={}, response_metadata={}, id='734d7661-4c57-4855-972e-19e9cfc14398'),\n",
       " AIMessage(content='', additional_kwargs={'tool_calls': [{'id': 'call_s7mOeEt4iImPFujKgWOyrv0w', 'function': {'arguments': '{\"question\":\"Who is more likely to get ALS?\"}', 'name': 'ai_rag_tool'}, 'type': 'function'}], 'refusal': None}, response_metadata={'token_usage': {'completion_tokens': 24, 'prompt_tokens': 121, 'total_tokens': 145, 'completion_tokens_details': {'accepted_prediction_tokens': 0, 'audio_tokens': 0, 'reasoning_tokens': 0, 'rejected_prediction_tokens': 0}, 'prompt_tokens_details': {'audio_tokens': 0, 'cached_tokens': 0}}, 'model_name': 'gpt-4o-2024-08-06', 'system_fingerprint': 'fp_f9f4fb6dbf', 'finish_reason': 'tool_calls', 'logprobs': None}, id='run-8d9d18f7-97bf-4781-ae95-ffc9c206292d-0', tool_calls=[{'name': 'ai_rag_tool', 'args': {'question': 'Who is more likely to get ALS?'}, 'id': 'call_s7mOeEt4iImPFujKgWOyrv0w', 'type': 'tool_call'}], usage_metadata={'input_tokens': 121, 'output_tokens': 24, 'total_tokens': 145, 'input_token_details': {'audio': 0, 'cache_read': 0}, 'output_token_details': {'audio': 0, 'reasoning': 0}}),\n",
       " ToolMessage(content='{\\'messages\\': [HumanMessage(content=\\'Men, particularly between the ages of 55 and 75, are slightly more likely to develop ALS than women. Additionally, military veterans may have a one and a half to two times higher risk, although the reasons for this increased likelihood are unclear. ALS primarily affects whites and non-Hispanics, but it can impact individuals of all races and ethnicities.\\', additional_kwargs={}, response_metadata={})], \\'context\\': [Document(metadata={\\'source\\': \\'data/overview.html\\', \\'title\\': \\'Amyotrophic Lateral Sclerosis (ALS) | National Institute of Neurological Disorders and Stroke\\', \\'_id\\': \\'146003a6af2742d49a944d8a23bf146b\\', \\'_collection_name\\': \\'ai_caregiver\\'}, page_content=\\'Age—Although the disease can strike at any age, symptoms most commonly develop between the ages of 55 and 75.\\\\nBiological sex—Men are slightly more likely to develop ALS than women. However, at older ages, men and women are equally likely to be diagnosed with ALS. \\\\nRace and ethnicity—Whites and non-Hispanics are most likely to develop the disease, but ALS affects people of all races and ethnic backgrounds.\\'), Document(metadata={\\'source\\': \\'data/overview.html\\', \\'title\\': \\'Amyotrophic Lateral Sclerosis (ALS) | National Institute of Neurological Disorders and Stroke\\', \\'_id\\': \\'d350dcb580c94805917b2ae6984de4bf\\', \\'_collection_name\\': \\'ai_caregiver\\'}, page_content=\\'Some studies suggest military veterans are about one and a half to two times more likely to develop ALS, although the reason for this is unclear. Possible risk factors for veterans include exposure to lead, pesticides, and other environmental toxins. Some studies have also shown that head injury can be associated with higher risk for ALS, but more research is needed to understand this connection. \\\\nSporadic and Familial ALS\\\\nNearly all cases of\\\\xa0ALS\\\\xa0are considered sporadic, meaning the disease seems to occur at random with no clearly associated risk factors and no family history of the disease. Although family members of people with ALS are at an increased risk for the disease, the overall risk is very low, and most will not develop ALS.\\'), Document(metadata={\\'source\\': \\'data/overview.html\\', \\'title\\': \\'Amyotrophic Lateral Sclerosis (ALS) | National Institute of Neurological Disorders and Stroke\\', \\'_id\\': \\'cba2017a73be4f3189673b67a8ff95b5\\', \\'_collection_name\\': \\'ai_caregiver\\'}, page_content=\\'About 10% of all\\\\xa0ALS\\\\xa0cases are familial (also called inherited or genetic). Changes in more than a dozen genes have been found to cause familial\\\\xa0ALS.\\'), Document(metadata={\\'source\\': \\'data/overview.html\\', \\'title\\': \\'Amyotrophic Lateral Sclerosis (ALS) | National Institute of Neurological Disorders and Stroke\\', \\'_id\\': \\'c4072d0329df4466befd35c9cc2acbc1\\', \\'_collection_name\\': \\'ai_caregiver\\'}, page_content=\\'Eventually, people with ALS will not be able to stand or walk, get in or out of bed on their own, use their hands and arms, or breathe on their own. Because they usually remain able to reason, remember, and understand, they are aware of their progressive loss of function. This can cause anxiety and depression in the person with ALS and their loved ones. Although not as common, people with ALS also may experience problems with language or decision-making. Some also develop a form of dementia known as FTD-ALS.\\\\nMost people with ALS die from being unable to breathe on their own (known as respiratory failure,) usually within three to five years from when the symptoms first appear. However, about 10% survive for a decade or more.\\\\nWho is more likely to get amyotrophic lateral sclerosis (ALS)?\\'), Document(metadata={\\'source\\': \\'data/overview.html\\', \\'title\\': \\'Amyotrophic Lateral Sclerosis (ALS) | National Institute of Neurological Disorders and Stroke\\', \\'_id\\': \\'079bbe3110c640cebdecc0d656529e18\\', \\'_collection_name\\': \\'ai_caregiver\\'}, page_content=\"In 2021, a team of scientists led by the\\\\xa0NIH\\\\xa0and the Uniformed Services University of the Health Sciences announced it had discovered a unique form of genetic\\\\xa0ALS\\\\xa0that affects children as early as age 4 years. This childhood form is linked to the gene SPTLC1 that is part of the body\\'s fat production system and may be caused by changes in the way the body metabolizes fatty materials (lipids).\\\\nHow is amyotrophic lateral sclerosis (ALS) diagnosed and treated?\\\\nDiagnosing ALS\\\\nIt is important to get an accurate ALS diagnosis as soon as possible. ALS treatments may be most effective early in the course of the disease. A neurologist familiar with ALS can help a person get diagnosed early after symptom onset.\")]}', name='ai_rag_tool', id='cf82fb74-3c24-43e4-ba07-685e9addcc7a', tool_call_id='call_s7mOeEt4iImPFujKgWOyrv0w'),\n",
       " AIMessage(content='Men, particularly between the ages of 55 and 75, are slightly more likely to develop ALS than women. Additionally, military veterans may have a one and a half to two times higher risk, although the reasons for this increased likelihood are unclear. ALS primarily affects whites and non-Hispanics, but it can impact individuals of all races and ethnicities.', additional_kwargs={'refusal': None}, response_metadata={'token_usage': {'completion_tokens': 75, 'prompt_tokens': 1210, 'total_tokens': 1285, 'completion_tokens_details': {'accepted_prediction_tokens': 0, 'audio_tokens': 0, 'reasoning_tokens': 0, 'rejected_prediction_tokens': 0}, 'prompt_tokens_details': {'audio_tokens': 0, 'cached_tokens': 0}}, 'model_name': 'gpt-4o-2024-08-06', 'system_fingerprint': 'fp_f9f4fb6dbf', 'finish_reason': 'stop', 'logprobs': None}, id='run-caf35788-ccea-4c92-98e5-5e31aa278ac4-0', usage_metadata={'input_tokens': 1210, 'output_tokens': 75, 'total_tokens': 1285, 'input_token_details': {'audio': 0, 'cache_read': 0}, 'output_token_details': {'audio': 0, 'reasoning': 0}})]"
      ]
     },
     "execution_count": 40,
     "metadata": {},
     "output_type": "execute_result"
    }
   ],
   "source": [
    "from langchain_core.messages import HumanMessage\n",
    "\n",
    "messages = [HumanMessage(content=\"Who is more likely to get ALS?\")]\n",
    "result = compiled_graph.invoke({\"messages\": messages})\n",
    "\n",
    "result[\"messages\"]"
   ]
  },
  {
   "cell_type": "markdown",
   "metadata": {},
   "source": [
    "## SDG"
   ]
  },
  {
   "cell_type": "code",
   "execution_count": null,
   "metadata": {},
   "outputs": [],
   "source": [
    "from ragas.integrations.langgraph import convert_to_ragas_messages\n",
    "\n",
    "# Assuming 'result[\"messages\"]' contains the list of LangChain messages\n",
    "ragas_trace = convert_to_ragas_messages(result[\"messages\"])\n",
    "ragas_trace  # List of Ragas messages"
   ]
  },
  {
   "cell_type": "code",
   "execution_count": null,
   "metadata": {},
   "outputs": [],
   "source": [
    "from ragas.dataset_schema import MultiTurnSample\n",
    "from ragas.metrics import AgentGoalAccuracyWithReference\n",
    "from ragas.llms import LangchainLLMWrapper\n",
    "\n",
    "\n",
    "sample = MultiTurnSample(\n",
    "    user_input=ragas_trace,\n",
    "    reference=\"Who is more likely to get ALS?\",\n",
    ")\n",
    "\n",
    "scorer = AgentGoalAccuracyWithReference()\n",
    "\n",
    "evaluator_llm = LangchainLLMWrapper(ChatOpenAI(model=\"gpt-4o-mini\"))\n",
    "scorer.llm = evaluator_llm\n",
    "await scorer.multi_turn_ascore(sample)"
   ]
  },
  {
   "cell_type": "code",
   "execution_count": null,
   "metadata": {},
   "outputs": [],
   "source": [
    "from ragas.llms import LangchainLLMWrapper\n",
    "from ragas.embeddings import LangchainEmbeddingsWrapper\n",
    "from langchain_openai import ChatOpenAI\n",
    "from langchain_openai import OpenAIEmbeddings\n",
    "generator_llm = LangchainLLMWrapper(ChatOpenAI(model=\"gpt-4o\"))\n",
    "generator_embeddings = LangchainEmbeddingsWrapper(OpenAIEmbeddings())"
   ]
  },
  {
   "cell_type": "code",
   "execution_count": null,
   "metadata": {},
   "outputs": [],
   "source": [
    "from ragas.testset import TestsetGenerator\n",
    "\n",
    "generator = TestsetGenerator(llm=generator_llm, embedding_model=generator_embeddings)\n",
    "dataset = generator.generate_with_langchain_docs(docs, testset_size=10)"
   ]
  },
  {
   "cell_type": "code",
   "execution_count": 47,
   "metadata": {},
   "outputs": [
    {
     "data": {
      "text/html": [
       "<div>\n",
       "<style scoped>\n",
       "    .dataframe tbody tr th:only-of-type {\n",
       "        vertical-align: middle;\n",
       "    }\n",
       "\n",
       "    .dataframe tbody tr th {\n",
       "        vertical-align: top;\n",
       "    }\n",
       "\n",
       "    .dataframe thead th {\n",
       "        text-align: right;\n",
       "    }\n",
       "</style>\n",
       "<table border=\"1\" class=\"dataframe\">\n",
       "  <thead>\n",
       "    <tr style=\"text-align: right;\">\n",
       "      <th></th>\n",
       "      <th>user_input</th>\n",
       "      <th>retrieved_contexts</th>\n",
       "      <th>reference_contexts</th>\n",
       "      <th>response</th>\n",
       "      <th>reference</th>\n",
       "      <th>synthesizer_name</th>\n",
       "    </tr>\n",
       "  </thead>\n",
       "  <tbody>\n",
       "    <tr>\n",
       "      <th>0</th>\n",
       "      <td>What is ALS and how does it affect the body?</td>\n",
       "      <td>[What is amyotrophic lateral sclerosis (ALS)?\\...</td>\n",
       "      <td>[Amyotrophic Lateral Sclerosis (ALS) | Nationa...</td>\n",
       "      <td>Amyotrophic lateral sclerosis (ALS) is a progr...</td>\n",
       "      <td>Amyotrophic lateral sclerosis (ALS), formerly ...</td>\n",
       "      <td>single_hop_specifc_query_synthesizer</td>\n",
       "    </tr>\n",
       "    <tr>\n",
       "      <th>1</th>\n",
       "      <td>how als get diagnosed?</td>\n",
       "      <td>[In 2021, a team of scientists led by the NIH ...</td>\n",
       "      <td>[How is amyotrophic lateral sclerosis (ALS) di...</td>\n",
       "      <td>ALS is diagnosed through a physical exam and a...</td>\n",
       "      <td>ALS is diagnosed by a neurologist familiar wit...</td>\n",
       "      <td>single_hop_specifc_query_synthesizer</td>\n",
       "    </tr>\n",
       "    <tr>\n",
       "      <th>2</th>\n",
       "      <td>What are the racial and ethnic factors that in...</td>\n",
       "      <td>[Age—Although the disease can strike at any ag...</td>\n",
       "      <td>[Who is more likely to get amyotrophic lateral...</td>\n",
       "      <td>Whites and non-Hispanics are most likely to de...</td>\n",
       "      <td>Whites and non-Hispanics are most likely to de...</td>\n",
       "      <td>single_hop_specifc_query_synthesizer</td>\n",
       "    </tr>\n",
       "    <tr>\n",
       "      <th>3</th>\n",
       "      <td>What role does the NIH play in ALS research?</td>\n",
       "      <td>[NINDS is the primary federal funder of resear...</td>\n",
       "      <td>[What are the latest updates on amyotrophic la...</td>\n",
       "      <td>The NIH, through its NINDS component, is the l...</td>\n",
       "      <td>The NIH, through its component NINDS, is the l...</td>\n",
       "      <td>single_hop_specifc_query_synthesizer</td>\n",
       "    </tr>\n",
       "    <tr>\n",
       "      <th>4</th>\n",
       "      <td>How is the diagnosis of Amyotrophic Lateral Sc...</td>\n",
       "      <td>[Scientific discoveries have resulted in the i...</td>\n",
       "      <td>[&lt;1-hop&gt;\\n\\nAmyotrophic Lateral Sclerosis (ALS...</td>\n",
       "      <td>Diagnosis of ALS is performed by a neurologist...</td>\n",
       "      <td>The diagnosis of Amyotrophic Lateral Sclerosis...</td>\n",
       "      <td>multi_hop_abstract_query_synthesizer</td>\n",
       "    </tr>\n",
       "    <tr>\n",
       "      <th>5</th>\n",
       "      <td>What are the diagnostic methods for Amyotrophi...</td>\n",
       "      <td>[In 2021, a team of scientists led by the NIH ...</td>\n",
       "      <td>[&lt;1-hop&gt;\\n\\nAmyotrophic Lateral Sclerosis (ALS...</td>\n",
       "      <td>ALS is diagnosed primarily by a neurologist fa...</td>\n",
       "      <td>Diagnosing Amyotrophic Lateral Sclerosis (ALS)...</td>\n",
       "      <td>multi_hop_abstract_query_synthesizer</td>\n",
       "    </tr>\n",
       "    <tr>\n",
       "      <th>6</th>\n",
       "      <td>What are the diagnostic methods for Amyotrophi...</td>\n",
       "      <td>[In 2021, a team of scientists led by the NIH ...</td>\n",
       "      <td>[&lt;1-hop&gt;\\n\\nAmyotrophic Lateral Sclerosis (ALS...</td>\n",
       "      <td>Amyotrophic Lateral Sclerosis (ALS) is diagnos...</td>\n",
       "      <td>Diagnosing Amyotrophic Lateral Sclerosis (ALS)...</td>\n",
       "      <td>multi_hop_abstract_query_synthesizer</td>\n",
       "    </tr>\n",
       "    <tr>\n",
       "      <th>7</th>\n",
       "      <td>What are the diagnostic methods for Amyotrophi...</td>\n",
       "      <td>[In 2021, a team of scientists led by the NIH ...</td>\n",
       "      <td>[&lt;1-hop&gt;\\n\\nAmyotrophic Lateral Sclerosis (ALS...</td>\n",
       "      <td>Diagnosing ALS typically involves a neurologis...</td>\n",
       "      <td>Diagnosing Amyotrophic Lateral Sclerosis (ALS)...</td>\n",
       "      <td>multi_hop_abstract_query_synthesizer</td>\n",
       "    </tr>\n",
       "    <tr>\n",
       "      <th>8</th>\n",
       "      <td>How do the strategic priorities set by NINDS f...</td>\n",
       "      <td>[NINDS is the primary federal funder of resear...</td>\n",
       "      <td>[&lt;1-hop&gt;\\n\\nWhat are the latest updates on amy...</td>\n",
       "      <td>The strategic priorities set by NINDS for ALS ...</td>\n",
       "      <td>The strategic priorities set by NINDS for ALS ...</td>\n",
       "      <td>multi_hop_specific_query_synthesizer</td>\n",
       "    </tr>\n",
       "    <tr>\n",
       "      <th>9</th>\n",
       "      <td>Wht r the risk factrs for amyotrophic lateral ...</td>\n",
       "      <td>[A risk factor is a condition or behavior that...</td>\n",
       "      <td>[&lt;1-hop&gt;\\n\\nAmyotrophic Lateral Sclerosis (ALS...</td>\n",
       "      <td>Risk factors for amyotrophic lateral sclerosis...</td>\n",
       "      <td>The risk factors for amyotrophic lateral scler...</td>\n",
       "      <td>multi_hop_specific_query_synthesizer</td>\n",
       "    </tr>\n",
       "    <tr>\n",
       "      <th>10</th>\n",
       "      <td>How is amyotrophic lateral sclerosis (ALS) dia...</td>\n",
       "      <td>[In 2021, a team of scientists led by the NIH ...</td>\n",
       "      <td>[&lt;1-hop&gt;\\n\\nHow is amyotrophic lateral scleros...</td>\n",
       "      <td>ALS is diagnosed by a neurologist through clin...</td>\n",
       "      <td>Amyotrophic lateral sclerosis (ALS) is diagnos...</td>\n",
       "      <td>multi_hop_specific_query_synthesizer</td>\n",
       "    </tr>\n",
       "    <tr>\n",
       "      <th>11</th>\n",
       "      <td>What are the current research priorities and c...</td>\n",
       "      <td>[Scientific discoveries have resulted in the i...</td>\n",
       "      <td>[&lt;1-hop&gt;\\n\\nAmyotrophic Lateral Sclerosis (ALS...</td>\n",
       "      <td>Current research priorities for ALS focus on u...</td>\n",
       "      <td>The current research priorities for developing...</td>\n",
       "      <td>multi_hop_specific_query_synthesizer</td>\n",
       "    </tr>\n",
       "  </tbody>\n",
       "</table>\n",
       "</div>"
      ],
      "text/plain": [
       "                                           user_input  \\\n",
       "0        What is ALS and how does it affect the body?   \n",
       "1                              how als get diagnosed?   \n",
       "2   What are the racial and ethnic factors that in...   \n",
       "3        What role does the NIH play in ALS research?   \n",
       "4   How is the diagnosis of Amyotrophic Lateral Sc...   \n",
       "5   What are the diagnostic methods for Amyotrophi...   \n",
       "6   What are the diagnostic methods for Amyotrophi...   \n",
       "7   What are the diagnostic methods for Amyotrophi...   \n",
       "8   How do the strategic priorities set by NINDS f...   \n",
       "9   Wht r the risk factrs for amyotrophic lateral ...   \n",
       "10  How is amyotrophic lateral sclerosis (ALS) dia...   \n",
       "11  What are the current research priorities and c...   \n",
       "\n",
       "                                   retrieved_contexts  \\\n",
       "0   [What is amyotrophic lateral sclerosis (ALS)?\\...   \n",
       "1   [In 2021, a team of scientists led by the NIH ...   \n",
       "2   [Age—Although the disease can strike at any ag...   \n",
       "3   [NINDS is the primary federal funder of resear...   \n",
       "4   [Scientific discoveries have resulted in the i...   \n",
       "5   [In 2021, a team of scientists led by the NIH ...   \n",
       "6   [In 2021, a team of scientists led by the NIH ...   \n",
       "7   [In 2021, a team of scientists led by the NIH ...   \n",
       "8   [NINDS is the primary federal funder of resear...   \n",
       "9   [A risk factor is a condition or behavior that...   \n",
       "10  [In 2021, a team of scientists led by the NIH ...   \n",
       "11  [Scientific discoveries have resulted in the i...   \n",
       "\n",
       "                                   reference_contexts  \\\n",
       "0   [Amyotrophic Lateral Sclerosis (ALS) | Nationa...   \n",
       "1   [How is amyotrophic lateral sclerosis (ALS) di...   \n",
       "2   [Who is more likely to get amyotrophic lateral...   \n",
       "3   [What are the latest updates on amyotrophic la...   \n",
       "4   [<1-hop>\\n\\nAmyotrophic Lateral Sclerosis (ALS...   \n",
       "5   [<1-hop>\\n\\nAmyotrophic Lateral Sclerosis (ALS...   \n",
       "6   [<1-hop>\\n\\nAmyotrophic Lateral Sclerosis (ALS...   \n",
       "7   [<1-hop>\\n\\nAmyotrophic Lateral Sclerosis (ALS...   \n",
       "8   [<1-hop>\\n\\nWhat are the latest updates on amy...   \n",
       "9   [<1-hop>\\n\\nAmyotrophic Lateral Sclerosis (ALS...   \n",
       "10  [<1-hop>\\n\\nHow is amyotrophic lateral scleros...   \n",
       "11  [<1-hop>\\n\\nAmyotrophic Lateral Sclerosis (ALS...   \n",
       "\n",
       "                                             response  \\\n",
       "0   Amyotrophic lateral sclerosis (ALS) is a progr...   \n",
       "1   ALS is diagnosed through a physical exam and a...   \n",
       "2   Whites and non-Hispanics are most likely to de...   \n",
       "3   The NIH, through its NINDS component, is the l...   \n",
       "4   Diagnosis of ALS is performed by a neurologist...   \n",
       "5   ALS is diagnosed primarily by a neurologist fa...   \n",
       "6   Amyotrophic Lateral Sclerosis (ALS) is diagnos...   \n",
       "7   Diagnosing ALS typically involves a neurologis...   \n",
       "8   The strategic priorities set by NINDS for ALS ...   \n",
       "9   Risk factors for amyotrophic lateral sclerosis...   \n",
       "10  ALS is diagnosed by a neurologist through clin...   \n",
       "11  Current research priorities for ALS focus on u...   \n",
       "\n",
       "                                            reference  \\\n",
       "0   Amyotrophic lateral sclerosis (ALS), formerly ...   \n",
       "1   ALS is diagnosed by a neurologist familiar wit...   \n",
       "2   Whites and non-Hispanics are most likely to de...   \n",
       "3   The NIH, through its component NINDS, is the l...   \n",
       "4   The diagnosis of Amyotrophic Lateral Sclerosis...   \n",
       "5   Diagnosing Amyotrophic Lateral Sclerosis (ALS)...   \n",
       "6   Diagnosing Amyotrophic Lateral Sclerosis (ALS)...   \n",
       "7   Diagnosing Amyotrophic Lateral Sclerosis (ALS)...   \n",
       "8   The strategic priorities set by NINDS for ALS ...   \n",
       "9   The risk factors for amyotrophic lateral scler...   \n",
       "10  Amyotrophic lateral sclerosis (ALS) is diagnos...   \n",
       "11  The current research priorities for developing...   \n",
       "\n",
       "                        synthesizer_name  \n",
       "0   single_hop_specifc_query_synthesizer  \n",
       "1   single_hop_specifc_query_synthesizer  \n",
       "2   single_hop_specifc_query_synthesizer  \n",
       "3   single_hop_specifc_query_synthesizer  \n",
       "4   multi_hop_abstract_query_synthesizer  \n",
       "5   multi_hop_abstract_query_synthesizer  \n",
       "6   multi_hop_abstract_query_synthesizer  \n",
       "7   multi_hop_abstract_query_synthesizer  \n",
       "8   multi_hop_specific_query_synthesizer  \n",
       "9   multi_hop_specific_query_synthesizer  \n",
       "10  multi_hop_specific_query_synthesizer  \n",
       "11  multi_hop_specific_query_synthesizer  "
      ]
     },
     "execution_count": 47,
     "metadata": {},
     "output_type": "execute_result"
    }
   ],
   "source": [
    "dataset.to_pandas()"
   ]
  },
  {
   "cell_type": "markdown",
   "metadata": {},
   "source": [
    "### Context Parsing"
   ]
  },
  {
   "cell_type": "code",
   "execution_count": 55,
   "metadata": {},
   "outputs": [
    {
     "name": "stdout",
     "output_type": "stream",
     "text": [
      "Checking if model wants to call a tool: content='' additional_kwargs={'tool_calls': [{'id': 'call_PUZWFqOSt32H8s5tHsRejZrp', 'function': {'arguments': '{\"question\":\"What is ALS and how does it affect the body?\"}', 'name': 'ai_rag_tool'}, 'type': 'function'}], 'refusal': None} response_metadata={'token_usage': {'completion_tokens': 27, 'prompt_tokens': 124, 'total_tokens': 151, 'completion_tokens_details': {'accepted_prediction_tokens': 0, 'audio_tokens': 0, 'reasoning_tokens': 0, 'rejected_prediction_tokens': 0}, 'prompt_tokens_details': {'audio_tokens': 0, 'cached_tokens': 0}}, 'model_name': 'gpt-4o-2024-08-06', 'system_fingerprint': 'fp_eb9dce56a8', 'finish_reason': 'tool_calls', 'logprobs': None} id='run-3560c75c-8811-4044-92e0-531c533f201f-0' tool_calls=[{'name': 'ai_rag_tool', 'args': {'question': 'What is ALS and how does it affect the body?'}, 'id': 'call_PUZWFqOSt32H8s5tHsRejZrp', 'type': 'tool_call'}] usage_metadata={'input_tokens': 124, 'output_tokens': 27, 'total_tokens': 151, 'input_token_details': {'audio': 0, 'cache_read': 0}, 'output_token_details': {'audio': 0, 'reasoning': 0}}\n",
      "Model wants to call a tool: [{'name': 'ai_rag_tool', 'args': {'question': 'What is ALS and how does it affect the body?'}, 'id': 'call_PUZWFqOSt32H8s5tHsRejZrp', 'type': 'tool_call'}]\n",
      "Checking if model wants to call a tool: content=\"Amyotrophic lateral sclerosis (ALS), also known as Lou Gehrig's disease, is a progressive neurological disorder that affects motor neurons. These are the nerve cells in the brain and spinal cord responsible for controlling voluntary muscle movement and breathing. As motor neurons degenerate and die, they stop sending messages to the muscles, leading to muscle weakness, twitching (fasciculations), and wasting away (atrophy).\\n\\nAs the disease progresses, individuals with ALS experience a loss of voluntary control over movements, affecting essential functions such as walking, talking, chewing, and breathing. Eventually, they may lose the ability to perform daily tasks independently. Despite these physical declines, cognitive functions often remain intact, which means individuals are aware of their progressive loss of function. This awareness can lead to anxiety and depression.\\n\\nMost people with ALS eventually face respiratory failure, as they lose the ability to breathe on their own, typically within three to five years from the onset of symptoms. However, about 10% of individuals with ALS survive for a decade or more.\" additional_kwargs={'refusal': None} response_metadata={'token_usage': {'completion_tokens': 211, 'prompt_tokens': 1333, 'total_tokens': 1544, 'completion_tokens_details': {'accepted_prediction_tokens': 0, 'audio_tokens': 0, 'reasoning_tokens': 0, 'rejected_prediction_tokens': 0}, 'prompt_tokens_details': {'audio_tokens': 0, 'cached_tokens': 0}}, 'model_name': 'gpt-4o-2024-08-06', 'system_fingerprint': 'fp_eb9dce56a8', 'finish_reason': 'stop', 'logprobs': None} id='run-963555ce-c49f-4a80-a2e3-b1b450a602d8-0' usage_metadata={'input_tokens': 1333, 'output_tokens': 211, 'total_tokens': 1544, 'input_token_details': {'audio': 0, 'cache_read': 0}, 'output_token_details': {'audio': 0, 'reasoning': 0}}\n",
      "No tool calls detected, ending execution.\n",
      "Checking if model wants to call a tool: content='' additional_kwargs={'tool_calls': [{'id': 'call_VSjr191fw8AsguF4su6rDmgs', 'function': {'arguments': '{\"question\":\"How is ALS diagnosed?\"}', 'name': 'ai_rag_tool'}, 'type': 'function'}], 'refusal': None} response_metadata={'token_usage': {'completion_tokens': 21, 'prompt_tokens': 118, 'total_tokens': 139, 'completion_tokens_details': {'accepted_prediction_tokens': 0, 'audio_tokens': 0, 'reasoning_tokens': 0, 'rejected_prediction_tokens': 0}, 'prompt_tokens_details': {'audio_tokens': 0, 'cached_tokens': 0}}, 'model_name': 'gpt-4o-2024-08-06', 'system_fingerprint': 'fp_eb9dce56a8', 'finish_reason': 'tool_calls', 'logprobs': None} id='run-283abd0c-09bf-459b-9145-865204e81fd6-0' tool_calls=[{'name': 'ai_rag_tool', 'args': {'question': 'How is ALS diagnosed?'}, 'id': 'call_VSjr191fw8AsguF4su6rDmgs', 'type': 'tool_call'}] usage_metadata={'input_tokens': 118, 'output_tokens': 21, 'total_tokens': 139, 'input_token_details': {'audio': 0, 'cache_read': 0}, 'output_token_details': {'audio': 0, 'reasoning': 0}}\n",
      "Model wants to call a tool: [{'name': 'ai_rag_tool', 'args': {'question': 'How is ALS diagnosed?'}, 'id': 'call_VSjr191fw8AsguF4su6rDmgs', 'type': 'tool_call'}]\n",
      "Checking if model wants to call a tool: content=\"ALS (Amyotrophic Lateral Sclerosis) is diagnosed through a combination of methods:\\n\\n1. **Physical and Neurologic Examinations**: A healthcare provider conducts a physical exam and reviews the patient's full medical history. A neurologic examination tests reflexes, muscle strength, and other responses. These tests are performed at regular intervals to assess whether symptoms are worsening over time.\\n\\n2. **Blood and Urine Tests**: These may be performed based on the person's symptoms and findings from a neurological exam to rule out other diseases.\\n\\n3. **Spinal Tap (Lumbar Puncture)**: In some cases, a spinal tap may be performed to obtain cerebrospinal fluid for additional testing.\\n\\n4. **Muscle Biopsy**: This may be conducted to determine whether the person has a muscle disease other than ALS.\\n\\n5. **Imaging Tests**: Muscle and imaging tests are used to rule out other diseases, supporting an ALS diagnosis.\\n\\nThese diagnostic methods help ensure an accurate diagnosis, which is crucial for effective treatment, especially early in the course of the disease.\" additional_kwargs={'refusal': None} response_metadata={'token_usage': {'completion_tokens': 220, 'prompt_tokens': 1217, 'total_tokens': 1437, 'completion_tokens_details': {'accepted_prediction_tokens': 0, 'audio_tokens': 0, 'reasoning_tokens': 0, 'rejected_prediction_tokens': 0}, 'prompt_tokens_details': {'audio_tokens': 0, 'cached_tokens': 0}}, 'model_name': 'gpt-4o-2024-08-06', 'system_fingerprint': 'fp_eb9dce56a8', 'finish_reason': 'stop', 'logprobs': None} id='run-8b2b715e-84d9-4c2c-9144-ed72b2c0cff4-0' usage_metadata={'input_tokens': 1217, 'output_tokens': 220, 'total_tokens': 1437, 'input_token_details': {'audio': 0, 'cache_read': 0}, 'output_token_details': {'audio': 0, 'reasoning': 0}}\n",
      "No tool calls detected, ending execution.\n",
      "Checking if model wants to call a tool: content='' additional_kwargs={'tool_calls': [{'id': 'call_zddN4C4HfsKIuzJrt3jQP7Q7', 'function': {'arguments': '{\"question\":\"What are the racial and ethnic factors that influence the likelihood of developing amyotrophic lateral sclerosis (ALS), and how do these factors compare to other risk factors?\"}', 'name': 'ai_rag_tool'}, 'type': 'function'}], 'refusal': None} response_metadata={'token_usage': {'completion_tokens': 48, 'prompt_tokens': 145, 'total_tokens': 193, 'completion_tokens_details': {'accepted_prediction_tokens': 0, 'audio_tokens': 0, 'reasoning_tokens': 0, 'rejected_prediction_tokens': 0}, 'prompt_tokens_details': {'audio_tokens': 0, 'cached_tokens': 0}}, 'model_name': 'gpt-4o-2024-08-06', 'system_fingerprint': 'fp_eb9dce56a8', 'finish_reason': 'tool_calls', 'logprobs': None} id='run-3a6b5e8b-7cd6-4c3f-97d3-a8fd524eaab1-0' tool_calls=[{'name': 'ai_rag_tool', 'args': {'question': 'What are the racial and ethnic factors that influence the likelihood of developing amyotrophic lateral sclerosis (ALS), and how do these factors compare to other risk factors?'}, 'id': 'call_zddN4C4HfsKIuzJrt3jQP7Q7', 'type': 'tool_call'}] usage_metadata={'input_tokens': 145, 'output_tokens': 48, 'total_tokens': 193, 'input_token_details': {'audio': 0, 'cache_read': 0}, 'output_token_details': {'audio': 0, 'reasoning': 0}}\n",
      "Model wants to call a tool: [{'name': 'ai_rag_tool', 'args': {'question': 'What are the racial and ethnic factors that influence the likelihood of developing amyotrophic lateral sclerosis (ALS), and how do these factors compare to other risk factors?'}, 'id': 'call_zddN4C4HfsKIuzJrt3jQP7Q7', 'type': 'tool_call'}]\n",
      "Checking if model wants to call a tool: content='Racial and ethnic factors do influence the likelihood of developing amyotrophic lateral sclerosis (ALS), with Whites and non-Hispanics being most likely to develop the disease. However, ALS affects individuals of all races and ethnic backgrounds. Compared to other risk factors, such as military service and family history, racial and ethnic factors appear to play a lesser role in determining ALS risk. Other factors, like age, biological sex, and environmental exposures, have been shown to correlate more strongly with the likelihood of developing the disease. \\n\\nFor instance, military veterans are about one and a half to two times more likely to develop ALS, possibly due to exposure to lead, pesticides, and other environmental toxins. Additionally, familial ALS, which is inherited, accounts for about 10% of all ALS cases and is linked to genetic changes.' additional_kwargs={'refusal': None} response_metadata={'token_usage': {'completion_tokens': 167, 'prompt_tokens': 1157, 'total_tokens': 1324, 'completion_tokens_details': {'accepted_prediction_tokens': 0, 'audio_tokens': 0, 'reasoning_tokens': 0, 'rejected_prediction_tokens': 0}, 'prompt_tokens_details': {'audio_tokens': 0, 'cached_tokens': 0}}, 'model_name': 'gpt-4o-2024-08-06', 'system_fingerprint': 'fp_eb9dce56a8', 'finish_reason': 'stop', 'logprobs': None} id='run-4d9b2c78-27ad-4ad0-80f5-11e3ed35ffb4-0' usage_metadata={'input_tokens': 1157, 'output_tokens': 167, 'total_tokens': 1324, 'input_token_details': {'audio': 0, 'cache_read': 0}, 'output_token_details': {'audio': 0, 'reasoning': 0}}\n",
      "No tool calls detected, ending execution.\n",
      "Checking if model wants to call a tool: content='' additional_kwargs={'tool_calls': [{'id': 'call_xiOaXo7nCuBbMqPt0O4FUGMA', 'function': {'arguments': '{\"question\":\"What role does the NIH play in ALS research?\"}', 'name': 'ai_rag_tool'}, 'type': 'function'}], 'refusal': None} response_metadata={'token_usage': {'completion_tokens': 26, 'prompt_tokens': 123, 'total_tokens': 149, 'completion_tokens_details': {'accepted_prediction_tokens': 0, 'audio_tokens': 0, 'reasoning_tokens': 0, 'rejected_prediction_tokens': 0}, 'prompt_tokens_details': {'audio_tokens': 0, 'cached_tokens': 0}}, 'model_name': 'gpt-4o-2024-08-06', 'system_fingerprint': 'fp_eb9dce56a8', 'finish_reason': 'tool_calls', 'logprobs': None} id='run-1be837eb-62bb-423e-b537-67db6becd6a9-0' tool_calls=[{'name': 'ai_rag_tool', 'args': {'question': 'What role does the NIH play in ALS research?'}, 'id': 'call_xiOaXo7nCuBbMqPt0O4FUGMA', 'type': 'tool_call'}] usage_metadata={'input_tokens': 123, 'output_tokens': 26, 'total_tokens': 149, 'input_token_details': {'audio': 0, 'cache_read': 0}, 'output_token_details': {'audio': 0, 'reasoning': 0}}\n",
      "Model wants to call a tool: [{'name': 'ai_rag_tool', 'args': {'question': 'What role does the NIH play in ALS research?'}, 'id': 'call_xiOaXo7nCuBbMqPt0O4FUGMA', 'type': 'tool_call'}]\n",
      "Checking if model wants to call a tool: content=\"The National Institutes of Health (NIH), through its component the National Institute of Neurological Disorders and Stroke (NINDS), plays a crucial role in ALS research. As the leading supporter of biomedical research globally, the NIH funds ALS research to develop effective interventions for the disease. Here are some key roles the NIH plays in ALS research:\\n\\n1. **Funding and Strategic Priorities**: NINDS is the primary federal funder of research on the brain and nervous system, including ALS. It has published strategic priorities to accelerate the development of effective interventions for ALS, developed with input from scientists, clinicians, advocates, and people affected by ALS.\\n\\n2. **Genetic Research**: The NIH supports large-scale collaborative research efforts analyzing genetic data from thousands of individuals with ALS to discover new genes involved in the disease. This research uses novel gene sequencing tools to rapidly identify new genes in the human genome related to ALS and other neurodegenerative diseases.\\n\\n3. **Clinical Trials**: The NIH facilitates clinical trials to advance understanding and treatment options for ALS. These trials involve human study participants to help researchers learn more about ALS and find better ways to detect, treat, or prevent the disease.\\n\\n4. **Tissue Collection and Research**: The NIH supports the NIH NeuroBioBank, a collaborative effort involving several brain banks across the U.S. that supply investigators with tissue from people with neurological disorders, including ALS. This effort aims to increase the availability of high-quality specimens for research to understand the neurological basis of ALS.\\n\\n5. **Therapeutic Development**: Scientific discoveries supported by the NIH have led to the identification of multiple therapeutic targets for ALS. Although some disease-modifying therapies have been approved by the FDA, the NIH continues to address challenges to develop truly effective ALS treatments.\\n\\nOverall, the NIH's role in ALS research is comprehensive, involving funding, strategic planning, genetic research, clinical trials, and tissue collection to advance the understanding and treatment of ALS.\" additional_kwargs={'refusal': None} response_metadata={'token_usage': {'completion_tokens': 395, 'prompt_tokens': 1257, 'total_tokens': 1652, 'completion_tokens_details': {'accepted_prediction_tokens': 0, 'audio_tokens': 0, 'reasoning_tokens': 0, 'rejected_prediction_tokens': 0}, 'prompt_tokens_details': {'audio_tokens': 0, 'cached_tokens': 0}}, 'model_name': 'gpt-4o-2024-08-06', 'system_fingerprint': 'fp_eb9dce56a8', 'finish_reason': 'stop', 'logprobs': None} id='run-03799a2b-615e-44d4-8e26-3925301aeb49-0' usage_metadata={'input_tokens': 1257, 'output_tokens': 395, 'total_tokens': 1652, 'input_token_details': {'audio': 0, 'cache_read': 0}, 'output_token_details': {'audio': 0, 'reasoning': 0}}\n",
      "No tool calls detected, ending execution.\n",
      "Checking if model wants to call a tool: content='' additional_kwargs={'tool_calls': [{'id': 'call_VR3BAsNcSCYTmXc9f3nRNm4b', 'function': {'arguments': '{\"question\": \"How is the diagnosis of Amyotrophic Lateral Sclerosis (ALS) conducted?\"}', 'name': 'ai_rag_tool'}, 'type': 'function'}, {'id': 'call_3az0og7VLx0K8v7Rhk0RSvST', 'function': {'arguments': '{\"question\": \"What are the challenges in developing effective treatments for Amyotrophic Lateral Sclerosis (ALS)?\"}', 'name': 'ai_rag_tool'}, 'type': 'function'}], 'refusal': None} response_metadata={'token_usage': {'completion_tokens': 84, 'prompt_tokens': 139, 'total_tokens': 223, 'completion_tokens_details': {'accepted_prediction_tokens': 0, 'audio_tokens': 0, 'reasoning_tokens': 0, 'rejected_prediction_tokens': 0}, 'prompt_tokens_details': {'audio_tokens': 0, 'cached_tokens': 0}}, 'model_name': 'gpt-4o-2024-08-06', 'system_fingerprint': 'fp_eb9dce56a8', 'finish_reason': 'tool_calls', 'logprobs': None} id='run-911a1b7c-235a-4be6-90a9-ddf813d2cd8b-0' tool_calls=[{'name': 'ai_rag_tool', 'args': {'question': 'How is the diagnosis of Amyotrophic Lateral Sclerosis (ALS) conducted?'}, 'id': 'call_VR3BAsNcSCYTmXc9f3nRNm4b', 'type': 'tool_call'}, {'name': 'ai_rag_tool', 'args': {'question': 'What are the challenges in developing effective treatments for Amyotrophic Lateral Sclerosis (ALS)?'}, 'id': 'call_3az0og7VLx0K8v7Rhk0RSvST', 'type': 'tool_call'}] usage_metadata={'input_tokens': 139, 'output_tokens': 84, 'total_tokens': 223, 'input_token_details': {'audio': 0, 'cache_read': 0}, 'output_token_details': {'audio': 0, 'reasoning': 0}}\n",
      "Model wants to call a tool: [{'name': 'ai_rag_tool', 'args': {'question': 'How is the diagnosis of Amyotrophic Lateral Sclerosis (ALS) conducted?'}, 'id': 'call_VR3BAsNcSCYTmXc9f3nRNm4b', 'type': 'tool_call'}, {'name': 'ai_rag_tool', 'args': {'question': 'What are the challenges in developing effective treatments for Amyotrophic Lateral Sclerosis (ALS)?'}, 'id': 'call_3az0og7VLx0K8v7Rhk0RSvST', 'type': 'tool_call'}]\n",
      "Checking if model wants to call a tool: content=\"### Diagnosis of Amyotrophic Lateral Sclerosis (ALS)\\n\\nThe diagnosis of ALS involves a comprehensive approach, as there is no single test that can definitively diagnose the disease. The process typically includes:\\n\\n1. **Physical and Neurological Examination**: A healthcare provider conducts a physical exam and reviews the patient's full medical history. A neurologic examination is performed to test reflexes, muscle strength, and other responses. These tests are repeated at regular intervals to monitor symptom progression.\\n\\n2. **Laboratory Tests**: Blood and urine tests may be conducted based on symptoms and neurological exam findings. A spinal tap (lumbar puncture) might be performed to analyze cerebrospinal fluid (CSF) for additional testing.\\n\\n3. **Imaging and Muscle Tests**: Imaging tests and muscle biopsies are used to rule out other diseases, supporting an ALS diagnosis.\\n\\n4. **Genetic Testing**: In some cases, genetic testing may be conducted, especially if there is a family history of ALS.\\n\\n### Challenges in Developing Effective Treatments for ALS\\n\\nDeveloping effective treatments for ALS presents several challenges:\\n\\n1. **Complex Cellular Mechanisms**: Understanding the complex cellular mechanisms involved in ALS is crucial. Research is ongoing to uncover how motor neurons degenerate and die.\\n\\n2. **Genetic and Environmental Factors**: Identifying genetic and environmental risk factors is essential for developing targeted therapies.\\n\\n3. **Biomarkers**: Discovering reliable biomarkers is necessary for early diagnosis and monitoring disease progression.\\n\\n4. **Modest Effects of Current Therapies**: Although several disease-modifying therapies have been approved, their effects are modest, highlighting the need for more effective solutions.\\n\\n5. **Research and Development**: Ongoing research aims to address these challenges by exploring diverse avenues to slow or stop the progression of ALS, including understanding cellular defects and the role of glial support cells and inflammation in the nervous system.\\n\\nOverall, while there have been advancements in understanding and treating ALS, significant challenges remain in developing therapies that can effectively halt or reverse the disease's progression.\" additional_kwargs={'refusal': None} response_metadata={'token_usage': {'completion_tokens': 415, 'prompt_tokens': 2360, 'total_tokens': 2775, 'completion_tokens_details': {'accepted_prediction_tokens': 0, 'audio_tokens': 0, 'reasoning_tokens': 0, 'rejected_prediction_tokens': 0}, 'prompt_tokens_details': {'audio_tokens': 0, 'cached_tokens': 0}}, 'model_name': 'gpt-4o-2024-08-06', 'system_fingerprint': 'fp_eb9dce56a8', 'finish_reason': 'stop', 'logprobs': None} id='run-20bcc4f7-15c4-458f-a72e-657fbe41c741-0' usage_metadata={'input_tokens': 2360, 'output_tokens': 415, 'total_tokens': 2775, 'input_token_details': {'audio': 0, 'cache_read': 0}, 'output_token_details': {'audio': 0, 'reasoning': 0}}\n",
      "No tool calls detected, ending execution.\n",
      "Checking if model wants to call a tool: content='' additional_kwargs={'tool_calls': [{'id': 'call_9Fix79VYtxyboajl0HBGiCxq', 'function': {'arguments': '{\"question\":\"What are the diagnostic methods for Amyotrophic Lateral Sclerosis (ALS) and how do they contribute to the early detection and treatment of the disease?\"}', 'name': 'ai_rag_tool'}, 'type': 'function'}], 'refusal': None} response_metadata={'token_usage': {'completion_tokens': 47, 'prompt_tokens': 144, 'total_tokens': 191, 'completion_tokens_details': {'accepted_prediction_tokens': 0, 'audio_tokens': 0, 'reasoning_tokens': 0, 'rejected_prediction_tokens': 0}, 'prompt_tokens_details': {'audio_tokens': 0, 'cached_tokens': 0}}, 'model_name': 'gpt-4o-2024-08-06', 'system_fingerprint': 'fp_eb9dce56a8', 'finish_reason': 'tool_calls', 'logprobs': None} id='run-4f3a0786-d946-4b25-94c9-cce32f172630-0' tool_calls=[{'name': 'ai_rag_tool', 'args': {'question': 'What are the diagnostic methods for Amyotrophic Lateral Sclerosis (ALS) and how do they contribute to the early detection and treatment of the disease?'}, 'id': 'call_9Fix79VYtxyboajl0HBGiCxq', 'type': 'tool_call'}] usage_metadata={'input_tokens': 144, 'output_tokens': 47, 'total_tokens': 191, 'input_token_details': {'audio': 0, 'cache_read': 0}, 'output_token_details': {'audio': 0, 'reasoning': 0}}\n",
      "Model wants to call a tool: [{'name': 'ai_rag_tool', 'args': {'question': 'What are the diagnostic methods for Amyotrophic Lateral Sclerosis (ALS) and how do they contribute to the early detection and treatment of the disease?'}, 'id': 'call_9Fix79VYtxyboajl0HBGiCxq', 'type': 'tool_call'}]\n",
      "Checking if model wants to call a tool: content=\"Diagnosing Amyotrophic Lateral Sclerosis (ALS) typically involves a neurologist conducting a thorough evaluation of the patient's medical history and performing a physical examination. Additional diagnostic methods may include electromyography (EMG) and nerve conduction studies to assess motor neuron function. These tests help in identifying abnormalities in the electrical activity of muscles and the speed of nerve signal transmission, which are indicative of ALS.\\n\\nEarly diagnosis of ALS is crucial because treatments are more effective when initiated soon after the onset of symptoms. Identifying the disease early allows for better management and potentially slowing its progression. While there is no cure for ALS, early intervention can improve the quality of life and extend survival by slowing the disease's progression and managing symptoms effectively.\" additional_kwargs={'refusal': None} response_metadata={'token_usage': {'completion_tokens': 147, 'prompt_tokens': 1403, 'total_tokens': 1550, 'completion_tokens_details': {'accepted_prediction_tokens': 0, 'audio_tokens': 0, 'reasoning_tokens': 0, 'rejected_prediction_tokens': 0}, 'prompt_tokens_details': {'audio_tokens': 0, 'cached_tokens': 0}}, 'model_name': 'gpt-4o-2024-08-06', 'system_fingerprint': 'fp_eb9dce56a8', 'finish_reason': 'stop', 'logprobs': None} id='run-46cdd8a8-e754-47e9-9162-7942d154ac30-0' usage_metadata={'input_tokens': 1403, 'output_tokens': 147, 'total_tokens': 1550, 'input_token_details': {'audio': 0, 'cache_read': 0}, 'output_token_details': {'audio': 0, 'reasoning': 0}}\n",
      "No tool calls detected, ending execution.\n",
      "Checking if model wants to call a tool: content='' additional_kwargs={'tool_calls': [{'id': 'call_9OP7BimSPlUArXUimnw2mTAe', 'function': {'arguments': '{\"question\":\"What are the diagnostic methods for Amyotrophic Lateral Sclerosis (ALS) and how do they relate to the progression and treatment of the disease?\"}', 'name': 'ai_rag_tool'}, 'type': 'function'}], 'refusal': None} response_metadata={'token_usage': {'completion_tokens': 46, 'prompt_tokens': 143, 'total_tokens': 189, 'completion_tokens_details': {'accepted_prediction_tokens': 0, 'audio_tokens': 0, 'reasoning_tokens': 0, 'rejected_prediction_tokens': 0}, 'prompt_tokens_details': {'audio_tokens': 0, 'cached_tokens': 0}}, 'model_name': 'gpt-4o-2024-08-06', 'system_fingerprint': 'fp_eb9dce56a8', 'finish_reason': 'tool_calls', 'logprobs': None} id='run-484d8ec2-376b-4b1a-ace8-cf3b7239e88a-0' tool_calls=[{'name': 'ai_rag_tool', 'args': {'question': 'What are the diagnostic methods for Amyotrophic Lateral Sclerosis (ALS) and how do they relate to the progression and treatment of the disease?'}, 'id': 'call_9OP7BimSPlUArXUimnw2mTAe', 'type': 'tool_call'}] usage_metadata={'input_tokens': 143, 'output_tokens': 46, 'total_tokens': 189, 'input_token_details': {'audio': 0, 'cache_read': 0}, 'output_token_details': {'audio': 0, 'reasoning': 0}}\n",
      "Model wants to call a tool: [{'name': 'ai_rag_tool', 'args': {'question': 'What are the diagnostic methods for Amyotrophic Lateral Sclerosis (ALS) and how do they relate to the progression and treatment of the disease?'}, 'id': 'call_9OP7BimSPlUArXUimnw2mTAe', 'type': 'tool_call'}]\n",
      "Checking if model wants to call a tool: content='Amyotrophic Lateral Sclerosis (ALS) is diagnosed by a neurologist who is familiar with the disease. The diagnostic process involves assessing symptoms and conducting tests to rule out other conditions. Early diagnosis is crucial because treatments are most effective in the initial stages of the disease, potentially helping to slow its progression and improve the quality of life.\\n\\nThere is currently no cure for ALS, and no treatment can reverse the damage to motor neurons. However, some treatments may slow the progression of the disease, improve quality of life, and extend survival. New treatments have become available in recent years, and researchers continue to explore various avenues to slow or stop the progression of ALS.\\n\\nSupportive healthcare is best provided by integrated, multi-disciplinary teams of professionals, which may include physicians, pharmacists, physical, occupational, speech, and respiratory therapists, nutritionists, social workers, clinical psychologists, and home care and hospice nurses. These teams can design individualized treatment plans and provide special equipment aimed at keeping people as mobile, comfortable, and independent as possible.\\n\\nResearch is ongoing to identify biomarkers, which are biological measures of a disease. Biomarkers can be molecules derived from bodily fluids (such as blood or cerebrospinal fluid), images of the brain or spinal cord, or measures of the ability of a nerve or muscle to process electrical signals. ALS biomarkers can help identify the rate of progression and the effectiveness of current and future therapies.' additional_kwargs={'refusal': None} response_metadata={'token_usage': {'completion_tokens': 283, 'prompt_tokens': 1410, 'total_tokens': 1693, 'completion_tokens_details': {'accepted_prediction_tokens': 0, 'audio_tokens': 0, 'reasoning_tokens': 0, 'rejected_prediction_tokens': 0}, 'prompt_tokens_details': {'audio_tokens': 0, 'cached_tokens': 0}}, 'model_name': 'gpt-4o-2024-08-06', 'system_fingerprint': 'fp_eb9dce56a8', 'finish_reason': 'stop', 'logprobs': None} id='run-5922cd84-c204-4a84-9556-a1babeb1c56a-0' usage_metadata={'input_tokens': 1410, 'output_tokens': 283, 'total_tokens': 1693, 'input_token_details': {'audio': 0, 'cache_read': 0}, 'output_token_details': {'audio': 0, 'reasoning': 0}}\n",
      "No tool calls detected, ending execution.\n",
      "Checking if model wants to call a tool: content='' additional_kwargs={'tool_calls': [{'id': 'call_PoBZ72tYdIWS8gK3au5FiRuF', 'function': {'arguments': '{\"question\":\"What are the diagnostic methods for Amyotrophic Lateral Sclerosis (ALS) and how do they relate to the progression and treatment of the disease?\"}', 'name': 'ai_rag_tool'}, 'type': 'function'}], 'refusal': None} response_metadata={'token_usage': {'completion_tokens': 46, 'prompt_tokens': 143, 'total_tokens': 189, 'completion_tokens_details': {'accepted_prediction_tokens': 0, 'audio_tokens': 0, 'reasoning_tokens': 0, 'rejected_prediction_tokens': 0}, 'prompt_tokens_details': {'audio_tokens': 0, 'cached_tokens': 0}}, 'model_name': 'gpt-4o-2024-08-06', 'system_fingerprint': 'fp_eb9dce56a8', 'finish_reason': 'tool_calls', 'logprobs': None} id='run-2f05ec4f-1083-4633-bbab-54f1e28ae800-0' tool_calls=[{'name': 'ai_rag_tool', 'args': {'question': 'What are the diagnostic methods for Amyotrophic Lateral Sclerosis (ALS) and how do they relate to the progression and treatment of the disease?'}, 'id': 'call_PoBZ72tYdIWS8gK3au5FiRuF', 'type': 'tool_call'}] usage_metadata={'input_tokens': 143, 'output_tokens': 46, 'total_tokens': 189, 'input_token_details': {'audio': 0, 'cache_read': 0}, 'output_token_details': {'audio': 0, 'reasoning': 0}}\n",
      "Model wants to call a tool: [{'name': 'ai_rag_tool', 'args': {'question': 'What are the diagnostic methods for Amyotrophic Lateral Sclerosis (ALS) and how do they relate to the progression and treatment of the disease?'}, 'id': 'call_PoBZ72tYdIWS8gK3au5FiRuF', 'type': 'tool_call'}]\n",
      "Checking if model wants to call a tool: content='Amyotrophic Lateral Sclerosis (ALS) is diagnosed by neurologists who assess symptoms and may use various diagnostic tests to confirm the presence of the disease. Early diagnosis is crucial, as treatments may be more effective when administered soon after symptom onset, potentially slowing progression and improving quality of life. While there is no cure for ALS, understanding the disease through diagnostic methods can guide treatment plans tailored to individual needs.\\n\\n### Diagnostic Methods for ALS:\\n1. **Clinical Examination**: Neurologists perform a thorough clinical examination to assess symptoms such as muscle weakness, twitching, and spasticity.\\n2. **Electromyography (EMG)**: This test measures the electrical activity of muscles and can detect abnormalities in muscle function.\\n3. **Nerve Conduction Studies (NCS)**: These studies measure the speed and strength of signals traveling in the nerves.\\n4. **Magnetic Resonance Imaging (MRI)**: MRI scans can help rule out other conditions that might mimic ALS symptoms.\\n5. **Blood and Urine Tests**: These tests can help rule out other diseases and check for biomarkers associated with ALS.\\n6. **Spinal Tap (Lumbar Puncture)**: This procedure can help detect abnormalities in the cerebrospinal fluid.\\n7. **Genetic Testing**: In some cases, genetic testing may be used to identify mutations associated with familial ALS.\\n\\n### Relation to Progression and Treatment:\\n- **Early Diagnosis**: Early and accurate diagnosis is essential for starting treatment as soon as possible, which may slow disease progression and improve quality of life.\\n- **Treatment Planning**: Diagnostic results help in tailoring treatment plans to individual needs, involving medications, physical therapy, and supportive care.\\n- **Monitoring Progression**: Diagnostic tools, especially biomarkers, can help monitor the progression of the disease and the effectiveness of treatments.\\n- **Research and Development**: Understanding the diagnostic markers and progression of ALS aids in the development of new therapies and interventions.\\n\\nWhile there is no treatment to reverse damage to motor neurons or cure ALS at this time, some treatments may slow progression, improve quality of life, and extend survival. Supportive healthcare is best provided by integrated, multi-disciplinary teams of professionals.' additional_kwargs={'refusal': None} response_metadata={'token_usage': {'completion_tokens': 445, 'prompt_tokens': 1409, 'total_tokens': 1854, 'completion_tokens_details': {'accepted_prediction_tokens': 0, 'audio_tokens': 0, 'reasoning_tokens': 0, 'rejected_prediction_tokens': 0}, 'prompt_tokens_details': {'audio_tokens': 0, 'cached_tokens': 0}}, 'model_name': 'gpt-4o-2024-08-06', 'system_fingerprint': 'fp_eb9dce56a8', 'finish_reason': 'stop', 'logprobs': None} id='run-1fbf1058-d6dc-4b44-b769-ade18322a56e-0' usage_metadata={'input_tokens': 1409, 'output_tokens': 445, 'total_tokens': 1854, 'input_token_details': {'audio': 0, 'cache_read': 0}, 'output_token_details': {'audio': 0, 'reasoning': 0}}\n",
      "No tool calls detected, ending execution.\n",
      "Checking if model wants to call a tool: content='' additional_kwargs={'tool_calls': [{'id': 'call_iAfQ0Je4wUcXrzZSYH6X3691', 'function': {'arguments': '{\"query\":\"NINDS strategic priorities ALS research 2023\"}', 'name': 'tavily_search_results_json'}, 'type': 'function'}], 'refusal': None} response_metadata={'token_usage': {'completion_tokens': 28, 'prompt_tokens': 159, 'total_tokens': 187, 'completion_tokens_details': {'accepted_prediction_tokens': 0, 'audio_tokens': 0, 'reasoning_tokens': 0, 'rejected_prediction_tokens': 0}, 'prompt_tokens_details': {'audio_tokens': 0, 'cached_tokens': 0}}, 'model_name': 'gpt-4o-2024-08-06', 'system_fingerprint': 'fp_eb9dce56a8', 'finish_reason': 'tool_calls', 'logprobs': None} id='run-909a1ebd-149d-431a-968c-6a08b4a8ed31-0' tool_calls=[{'name': 'tavily_search_results_json', 'args': {'query': 'NINDS strategic priorities ALS research 2023'}, 'id': 'call_iAfQ0Je4wUcXrzZSYH6X3691', 'type': 'tool_call'}] usage_metadata={'input_tokens': 159, 'output_tokens': 28, 'total_tokens': 187, 'input_token_details': {'audio': 0, 'cache_read': 0}, 'output_token_details': {'audio': 0, 'reasoning': 0}}\n",
      "Model wants to call a tool: [{'name': 'tavily_search_results_json', 'args': {'query': 'NINDS strategic priorities ALS research 2023'}, 'id': 'call_iAfQ0Je4wUcXrzZSYH6X3691', 'type': 'tool_call'}]\n",
      "Checking if model wants to call a tool: content='' additional_kwargs={'tool_calls': [{'id': 'call_DaTA6yJRor7tDxSYVsFzNWeU', 'function': {'arguments': '{\"question\":\"How do the strategic priorities set by NINDS for ALS research in 2023 aim to address the challenges in diagnosing and treating amyotrophic lateral sclerosis, and what role do genetic and biomarker studies play in these efforts?\"}', 'name': 'ai_rag_tool'}, 'type': 'function'}], 'refusal': None} response_metadata={'token_usage': {'completion_tokens': 62, 'prompt_tokens': 523, 'total_tokens': 585, 'completion_tokens_details': {'accepted_prediction_tokens': 0, 'audio_tokens': 0, 'reasoning_tokens': 0, 'rejected_prediction_tokens': 0}, 'prompt_tokens_details': {'audio_tokens': 0, 'cached_tokens': 0}}, 'model_name': 'gpt-4o-2024-08-06', 'system_fingerprint': 'fp_eb9dce56a8', 'finish_reason': 'tool_calls', 'logprobs': None} id='run-39b0b130-ce76-4e52-ae35-be4d44528b74-0' tool_calls=[{'name': 'ai_rag_tool', 'args': {'question': 'How do the strategic priorities set by NINDS for ALS research in 2023 aim to address the challenges in diagnosing and treating amyotrophic lateral sclerosis, and what role do genetic and biomarker studies play in these efforts?'}, 'id': 'call_DaTA6yJRor7tDxSYVsFzNWeU', 'type': 'tool_call'}] usage_metadata={'input_tokens': 523, 'output_tokens': 62, 'total_tokens': 585, 'input_token_details': {'audio': 0, 'cache_read': 0}, 'output_token_details': {'audio': 0, 'reasoning': 0}}\n",
      "Model wants to call a tool: [{'name': 'ai_rag_tool', 'args': {'question': 'How do the strategic priorities set by NINDS for ALS research in 2023 aim to address the challenges in diagnosing and treating amyotrophic lateral sclerosis, and what role do genetic and biomarker studies play in these efforts?'}, 'id': 'call_DaTA6yJRor7tDxSYVsFzNWeU', 'type': 'tool_call'}]\n",
      "Checking if model wants to call a tool: content='The strategic priorities set by the National Institute of Neurological Disorders and Stroke (NINDS) for ALS research in 2023 are focused on accelerating the development of effective interventions for the diagnosis, treatment, management, prevention, and potential cures for amyotrophic lateral sclerosis (ALS). These priorities were developed with input from scientists, clinicians, advocates, people affected by ALS, and the public.\\n\\nKey components of these strategic priorities include:\\n\\n1. **Genetic Studies**: These aim to identify new genes associated with ALS. By analyzing genetic data from thousands of individuals with ALS, researchers hope to discover new genes involved in the disease. This genetic understanding is crucial for developing targeted therapies and understanding disease progression.\\n\\n2. **Biomarker Research**: Biomarkers are biological measures of a disease, which can include molecules derived from bodily fluids, images of the brain or spinal cord, or measures of nerve or muscle function. ALS biomarkers are essential for identifying the rate of disease progression and evaluating the effectiveness of current and future therapies.\\n\\n3. **Understanding Disease Mechanisms**: The research also focuses on understanding the cellular mechanisms involved in the development and progression of ALS, investigating the influence of genetics and other potential risk factors, and identifying new therapeutic targets.\\n\\n4. **Stem Cell Research**: Scientists are using stem cells to better understand the function of neurons involved in ALS, which may lead to new insights into the disease and potential treatments.\\n\\nOverall, genetic and biomarker studies play a critical role in these efforts by enhancing the understanding of ALS and improving the development of targeted therapies. These studies are integral to addressing the challenges in diagnosing and treating ALS effectively.' additional_kwargs={'refusal': None} response_metadata={'token_usage': {'completion_tokens': 331, 'prompt_tokens': 1714, 'total_tokens': 2045, 'completion_tokens_details': {'accepted_prediction_tokens': 0, 'audio_tokens': 0, 'reasoning_tokens': 0, 'rejected_prediction_tokens': 0}, 'prompt_tokens_details': {'audio_tokens': 0, 'cached_tokens': 0}}, 'model_name': 'gpt-4o-2024-08-06', 'system_fingerprint': 'fp_eb9dce56a8', 'finish_reason': 'stop', 'logprobs': None} id='run-0bcc6c94-84eb-46fa-bb3e-6f4bae009eef-0' usage_metadata={'input_tokens': 1714, 'output_tokens': 331, 'total_tokens': 2045, 'input_token_details': {'audio': 0, 'cache_read': 0}, 'output_token_details': {'audio': 0, 'reasoning': 0}}\n",
      "No tool calls detected, ending execution.\n",
      "Checking if model wants to call a tool: content='' additional_kwargs={'tool_calls': [{'id': 'call_RvTNTDzPwr4kLEkreSjR636c', 'function': {'arguments': '{\"question\":\"What are the risk factors for amyotrophic lateral sclerosis and how do they relate to its progression?\"}', 'name': 'ai_rag_tool'}, 'type': 'function'}], 'refusal': None} response_metadata={'token_usage': {'completion_tokens': 36, 'prompt_tokens': 136, 'total_tokens': 172, 'completion_tokens_details': {'accepted_prediction_tokens': 0, 'audio_tokens': 0, 'reasoning_tokens': 0, 'rejected_prediction_tokens': 0}, 'prompt_tokens_details': {'audio_tokens': 0, 'cached_tokens': 0}}, 'model_name': 'gpt-4o-2024-08-06', 'system_fingerprint': 'fp_eb9dce56a8', 'finish_reason': 'tool_calls', 'logprobs': None} id='run-56b77ccb-f840-4fa2-a10c-8fa4da60d357-0' tool_calls=[{'name': 'ai_rag_tool', 'args': {'question': 'What are the risk factors for amyotrophic lateral sclerosis and how do they relate to its progression?'}, 'id': 'call_RvTNTDzPwr4kLEkreSjR636c', 'type': 'tool_call'}] usage_metadata={'input_tokens': 136, 'output_tokens': 36, 'total_tokens': 172, 'input_token_details': {'audio': 0, 'cache_read': 0}, 'output_token_details': {'audio': 0, 'reasoning': 0}}\n",
      "Model wants to call a tool: [{'name': 'ai_rag_tool', 'args': {'question': 'What are the risk factors for amyotrophic lateral sclerosis and how do they relate to its progression?'}, 'id': 'call_RvTNTDzPwr4kLEkreSjR636c', 'type': 'tool_call'}]\n",
      "Checking if model wants to call a tool: content='Risk factors for amyotrophic lateral sclerosis (ALS) include:\\n\\n1. **Cellular Defects**: Issues with protein recycling and gene regulation, as well as structural impairments of motor neurons, are significant risk factors. These cellular defects can lead to the degeneration of motor neurons, which is a hallmark of ALS.\\n\\n2. **Inflammation and Glial Support Cells**: Inflammation and the role of glial support cells in the nervous system are believed to contribute to the progression of ALS. These factors may exacerbate the degeneration of motor neurons.\\n\\nWhile these risk factors increase the likelihood of developing ALS, they do not guarantee its onset. The progression of ALS is influenced by these factors, as they contribute to the degeneration and death of motor neurons, leading to the worsening of symptoms over time.' additional_kwargs={'refusal': None} response_metadata={'token_usage': {'completion_tokens': 163, 'prompt_tokens': 1303, 'total_tokens': 1466, 'completion_tokens_details': {'accepted_prediction_tokens': 0, 'audio_tokens': 0, 'reasoning_tokens': 0, 'rejected_prediction_tokens': 0}, 'prompt_tokens_details': {'audio_tokens': 0, 'cached_tokens': 0}}, 'model_name': 'gpt-4o-2024-08-06', 'system_fingerprint': 'fp_eb9dce56a8', 'finish_reason': 'stop', 'logprobs': None} id='run-230c7c87-d0df-43a9-b5d4-1b672a4574ba-0' usage_metadata={'input_tokens': 1303, 'output_tokens': 163, 'total_tokens': 1466, 'input_token_details': {'audio': 0, 'cache_read': 0}, 'output_token_details': {'audio': 0, 'reasoning': 0}}\n",
      "No tool calls detected, ending execution.\n",
      "Checking if model wants to call a tool: content='' additional_kwargs={'tool_calls': [{'id': 'call_rxa8V66ye9DhJbPewxMbsQsr', 'function': {'arguments': '{\"question\": \"How is amyotrophic lateral sclerosis (ALS) diagnosed?\"}', 'name': 'ai_rag_tool'}, 'type': 'function'}, {'id': 'call_SbivCUXQtkLAxp8yAkYL3Zbx', 'function': {'arguments': '{\"question\": \"How is amyotrophic lateral sclerosis (ALS) treated?\"}', 'name': 'ai_rag_tool'}, 'type': 'function'}, {'id': 'call_ZYAFGnMyYePGOmvGFqqtupDh', 'function': {'arguments': '{\"question\": \"What are the risk factors associated with developing amyotrophic lateral sclerosis (ALS)?\"}', 'name': 'ai_rag_tool'}, 'type': 'function'}], 'refusal': None} response_metadata={'token_usage': {'completion_tokens': 103, 'prompt_tokens': 139, 'total_tokens': 242, 'completion_tokens_details': {'accepted_prediction_tokens': 0, 'audio_tokens': 0, 'reasoning_tokens': 0, 'rejected_prediction_tokens': 0}, 'prompt_tokens_details': {'audio_tokens': 0, 'cached_tokens': 0}}, 'model_name': 'gpt-4o-2024-08-06', 'system_fingerprint': 'fp_eb9dce56a8', 'finish_reason': 'tool_calls', 'logprobs': None} id='run-1a19aac1-c52a-417f-a9f6-c28aee7faea9-0' tool_calls=[{'name': 'ai_rag_tool', 'args': {'question': 'How is amyotrophic lateral sclerosis (ALS) diagnosed?'}, 'id': 'call_rxa8V66ye9DhJbPewxMbsQsr', 'type': 'tool_call'}, {'name': 'ai_rag_tool', 'args': {'question': 'How is amyotrophic lateral sclerosis (ALS) treated?'}, 'id': 'call_SbivCUXQtkLAxp8yAkYL3Zbx', 'type': 'tool_call'}, {'name': 'ai_rag_tool', 'args': {'question': 'What are the risk factors associated with developing amyotrophic lateral sclerosis (ALS)?'}, 'id': 'call_ZYAFGnMyYePGOmvGFqqtupDh', 'type': 'tool_call'}] usage_metadata={'input_tokens': 139, 'output_tokens': 103, 'total_tokens': 242, 'input_token_details': {'audio': 0, 'cache_read': 0}, 'output_token_details': {'audio': 0, 'reasoning': 0}}\n",
      "Model wants to call a tool: [{'name': 'ai_rag_tool', 'args': {'question': 'How is amyotrophic lateral sclerosis (ALS) diagnosed?'}, 'id': 'call_rxa8V66ye9DhJbPewxMbsQsr', 'type': 'tool_call'}, {'name': 'ai_rag_tool', 'args': {'question': 'How is amyotrophic lateral sclerosis (ALS) treated?'}, 'id': 'call_SbivCUXQtkLAxp8yAkYL3Zbx', 'type': 'tool_call'}, {'name': 'ai_rag_tool', 'args': {'question': 'What are the risk factors associated with developing amyotrophic lateral sclerosis (ALS)?'}, 'id': 'call_ZYAFGnMyYePGOmvGFqqtupDh', 'type': 'tool_call'}]\n",
      "Checking if model wants to call a tool: content='### Diagnosis of ALS\\nAmyotrophic lateral sclerosis (ALS) is diagnosed through a combination of a physical exam, medical history review, and a neurologic examination to assess reflexes and muscle strength. There is no single definitive test for ALS; healthcare providers may also conduct muscle and imaging tests, blood and urine tests, and possibly a spinal tap to rule out other diseases. Regular testing is important to monitor symptom progression over time.\\n\\n### Treatment of ALS\\nALS is treated with therapies that may slow disease progression, improve quality of life, and extend survival, though there is no cure currently. Integrated, multi-disciplinary healthcare teams design individualized treatment plans and provide support, including disease-modifying therapies approved by the FDA. While the impact of these therapies is modest, research continues to explore new treatment options.\\n\\n### Risk Factors for ALS\\nRisk factors for developing ALS include age (commonly between 55 and 75), biological sex (men are slightly more likely), and race/ethnicity (most common in whites and non-Hispanics). Environmental factors, such as exposure to lead, pesticides, and head injuries, may also increase the risk. While familial ALS accounts for about 10% of cases, most cases are sporadic with no clear risk factors.' additional_kwargs={'refusal': None} response_metadata={'token_usage': {'completion_tokens': 254, 'prompt_tokens': 3466, 'total_tokens': 3720, 'completion_tokens_details': {'accepted_prediction_tokens': 0, 'audio_tokens': 0, 'reasoning_tokens': 0, 'rejected_prediction_tokens': 0}, 'prompt_tokens_details': {'audio_tokens': 0, 'cached_tokens': 0}}, 'model_name': 'gpt-4o-2024-08-06', 'system_fingerprint': 'fp_eb9dce56a8', 'finish_reason': 'stop', 'logprobs': None} id='run-df436200-2908-48d3-8cb9-48b7864e1eef-0' usage_metadata={'input_tokens': 3466, 'output_tokens': 254, 'total_tokens': 3720, 'input_token_details': {'audio': 0, 'cache_read': 0}, 'output_token_details': {'audio': 0, 'reasoning': 0}}\n",
      "No tool calls detected, ending execution.\n",
      "Checking if model wants to call a tool: content='' additional_kwargs={'tool_calls': [{'id': 'call_TFKBYaBp62gDu0DJBaZGfEV0', 'function': {'arguments': '{\"query\":\"current research priorities challenges ALS treatments 2023\"}', 'name': 'tavily_search_results_json'}, 'type': 'function'}], 'refusal': None} response_metadata={'token_usage': {'completion_tokens': 27, 'prompt_tokens': 148, 'total_tokens': 175, 'completion_tokens_details': {'accepted_prediction_tokens': 0, 'audio_tokens': 0, 'reasoning_tokens': 0, 'rejected_prediction_tokens': 0}, 'prompt_tokens_details': {'audio_tokens': 0, 'cached_tokens': 0}}, 'model_name': 'gpt-4o-2024-08-06', 'system_fingerprint': 'fp_eb9dce56a8', 'finish_reason': 'tool_calls', 'logprobs': None} id='run-714eb76d-1ca1-4e81-a8ff-2fbdbb8b1d85-0' tool_calls=[{'name': 'tavily_search_results_json', 'args': {'query': 'current research priorities challenges ALS treatments 2023'}, 'id': 'call_TFKBYaBp62gDu0DJBaZGfEV0', 'type': 'tool_call'}] usage_metadata={'input_tokens': 148, 'output_tokens': 27, 'total_tokens': 175, 'input_token_details': {'audio': 0, 'cache_read': 0}, 'output_token_details': {'audio': 0, 'reasoning': 0}}\n",
      "Model wants to call a tool: [{'name': 'tavily_search_results_json', 'args': {'query': 'current research priorities challenges ALS treatments 2023'}, 'id': 'call_TFKBYaBp62gDu0DJBaZGfEV0', 'type': 'tool_call'}]\n",
      "Checking if model wants to call a tool: content='' additional_kwargs={'tool_calls': [{'id': 'call_ipzEe55U3RsLCwybfoDkH1St', 'function': {'arguments': '{\"question\":\"What are the current research priorities and challenges in developing effective treatments for ALS, and how do they relate to the understanding of genetic and cellular mechanisms?\"}', 'name': 'ai_rag_tool'}, 'type': 'function'}], 'refusal': None} response_metadata={'token_usage': {'completion_tokens': 45, 'prompt_tokens': 624, 'total_tokens': 669, 'completion_tokens_details': {'accepted_prediction_tokens': 0, 'audio_tokens': 0, 'reasoning_tokens': 0, 'rejected_prediction_tokens': 0}, 'prompt_tokens_details': {'audio_tokens': 0, 'cached_tokens': 0}}, 'model_name': 'gpt-4o-2024-08-06', 'system_fingerprint': 'fp_eb9dce56a8', 'finish_reason': 'tool_calls', 'logprobs': None} id='run-ca71e28e-b84f-4333-ad3a-fba7d7cad2aa-0' tool_calls=[{'name': 'ai_rag_tool', 'args': {'question': 'What are the current research priorities and challenges in developing effective treatments for ALS, and how do they relate to the understanding of genetic and cellular mechanisms?'}, 'id': 'call_ipzEe55U3RsLCwybfoDkH1St', 'type': 'tool_call'}] usage_metadata={'input_tokens': 624, 'output_tokens': 45, 'total_tokens': 669, 'input_token_details': {'audio': 0, 'cache_read': 0}, 'output_token_details': {'audio': 0, 'reasoning': 0}}\n",
      "Model wants to call a tool: [{'name': 'ai_rag_tool', 'args': {'question': 'What are the current research priorities and challenges in developing effective treatments for ALS, and how do they relate to the understanding of genetic and cellular mechanisms?'}, 'id': 'call_ipzEe55U3RsLCwybfoDkH1St', 'type': 'tool_call'}]\n",
      "Checking if model wants to call a tool: content='Current research priorities in developing effective treatments for amyotrophic lateral sclerosis (ALS) focus on several key areas:\\n\\n1. **Understanding Cellular Mechanisms**: Research aims to uncover the cellular mechanisms that lead to motor neuron degeneration in ALS. This includes studying cellular defects such as issues in protein recycling, gene regulation, and structural impairments of motor neurons. Understanding these mechanisms is crucial for developing strategies to halt the degeneration process.\\n\\n2. **Genetic Influences**: There is a significant focus on the genetic aspects of ALS. Large-scale collaborative efforts are analyzing genetic data to discover new genes involved in the disease. This genetic research is essential for understanding how ALS develops and progresses, and it may lead to the identification of new therapeutic targets.\\n\\n3. **Biomarkers**: Developing biomarkers is a priority, as they can provide biological measures of the disease. Biomarkers can help in identifying the rate of disease progression and the effectiveness of current and future therapies. They can be derived from bodily fluids, imaging, or measures of nerve and muscle function.\\n\\n4. **Epigenetics**: Researchers are exploring the role of epigenetics in ALS. Epigenetic changes can switch genes on and off, impacting health and disease. Understanding these changes could offer new insights into ALS development and progression.\\n\\n5. **Role of Glial Cells and Inflammation**: Increasing evidence suggests that glial support cells and inflammation cells in the nervous system play a significant role in ALS. Research in this area could lead to new intervention strategies.\\n\\nThe challenges in developing effective ALS treatments include the need for better disease-modifying therapies, as current treatments have only a modest impact. Addressing these challenges requires a comprehensive understanding of the genetic and cellular mechanisms underlying ALS, which is the focus of ongoing research efforts.' additional_kwargs={'refusal': None} response_metadata={'token_usage': {'completion_tokens': 358, 'prompt_tokens': 1758, 'total_tokens': 2116, 'completion_tokens_details': {'accepted_prediction_tokens': 0, 'audio_tokens': 0, 'reasoning_tokens': 0, 'rejected_prediction_tokens': 0}, 'prompt_tokens_details': {'audio_tokens': 0, 'cached_tokens': 0}}, 'model_name': 'gpt-4o-2024-08-06', 'system_fingerprint': 'fp_eb9dce56a8', 'finish_reason': 'stop', 'logprobs': None} id='run-7f67629b-a77d-4b02-9126-1f032c4504ee-0' usage_metadata={'input_tokens': 1758, 'output_tokens': 358, 'total_tokens': 2116, 'input_token_details': {'audio': 0, 'cache_read': 0}, 'output_token_details': {'audio': 0, 'reasoning': 0}}\n",
      "No tool calls detected, ending execution.\n"
     ]
    }
   ],
   "source": [
    "import pandas as pd\n",
    "# Convert existing RAGAS dataset to pandas DataFrame\n",
    "existing_df = dataset.to_pandas()\n",
    "\n",
    "# Store new evaluation data (retriever + generator)\n",
    "full_evaluation_logs = []\n",
    "\n",
    "# Iterate through each row in the dataset\n",
    "for index, row in existing_df.iterrows():\n",
    "    user_query = row[\"user_input\"]  # Extract user query\n",
    "\n",
    "    # Run LangGraph for this query\n",
    "    initial_state = {\"messages\": [HumanMessage(content=user_query)]}\n",
    "    final_state = compiled_graph.invoke(initial_state)\n",
    "\n",
    "    # Extract relevant outputs\n",
    "    retrieved_context = final_state.get(\"context\", [])  # Tool retrieved context\n",
    "    model_response = final_state[\"messages\"][-1].content  # Final LLM response\n",
    "\n",
    "    # Append to full evaluation logs\n",
    "    full_evaluation_logs.append({\n",
    "        \"user_input\": user_query,\n",
    "        \"retrieved_context\": retrieved_context,\n",
    "        \"response\": model_response\n",
    "    })\n",
    "\n",
    "# Convert to DataFrame\n",
    "full_evaluation_df = pd.DataFrame(full_evaluation_logs)"
   ]
  },
  {
   "cell_type": "code",
   "execution_count": 59,
   "metadata": {},
   "outputs": [],
   "source": [
    "merged_dataset = pd.concat([existing_df, full_evaluation_df], axis=1)"
   ]
  },
  {
   "cell_type": "code",
   "execution_count": 61,
   "metadata": {},
   "outputs": [
    {
     "data": {
      "application/vnd.jupyter.widget-view+json": {
       "model_id": "b5c6bc285b0c4ba1b3097f753ec51287",
       "version_major": 2,
       "version_minor": 0
      },
      "text/plain": [
       "Evaluating:   0%|          | 0/72 [00:00<?, ?it/s]"
      ]
     },
     "metadata": {},
     "output_type": "display_data"
    },
    {
     "name": "stderr",
     "output_type": "stream",
     "text": [
      "Exception raised in Job[53]: TimeoutError()\n"
     ]
    },
    {
     "data": {
      "text/plain": [
       "{'context_recall': 0.6292, 'faithfulness': 0.8435, 'factual_correctness': 0.5450, 'answer_relevancy': 0.9332, 'context_entity_recall': 0.3760, 'noise_sensitivity_relevant': 0.1215}"
      ]
     },
     "execution_count": 61,
     "metadata": {},
     "output_type": "execute_result"
    }
   ],
   "source": [
    "# Run RAGAS evaluation\n",
    "result = evaluate(\n",
    "    dataset=evaluation_dataset,\n",
    "    metrics=[LLMContextRecall(), Faithfulness(), FactualCorrectness(), ResponseRelevancy(), ContextEntityRecall(), NoiseSensitivity()],\n",
    "    llm=evaluator_llm,\n",
    "    run_config=custom_run_config\n",
    ")\n",
    "result"
   ]
  }
 ],
 "metadata": {
  "kernelspec": {
   "display_name": "venv",
   "language": "python",
   "name": "python3"
  },
  "language_info": {
   "codemirror_mode": {
    "name": "ipython",
    "version": 3
   },
   "file_extension": ".py",
   "mimetype": "text/x-python",
   "name": "python",
   "nbconvert_exporter": "python",
   "pygments_lexer": "ipython3",
   "version": "3.11.4"
  }
 },
 "nbformat": 4,
 "nbformat_minor": 2
}
